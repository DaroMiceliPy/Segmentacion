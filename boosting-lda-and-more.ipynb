{
 "cells": [
  {
   "cell_type": "code",
   "execution_count": 1,
   "metadata": {
    "_cell_guid": "b1076dfc-b9ad-4769-8c92-a6c4dae69d19",
    "_uuid": "8f2839f25d086af736a60e9eeb907d3b93b6e0e5",
    "execution": {
     "iopub.execute_input": "2021-02-27T19:27:59.299756Z",
     "iopub.status.busy": "2021-02-27T19:27:59.298309Z",
     "iopub.status.idle": "2021-02-27T19:27:59.321318Z",
     "shell.execute_reply": "2021-02-27T19:27:59.321888Z"
    },
    "papermill": {
     "duration": 0.058823,
     "end_time": "2021-02-27T19:27:59.322366",
     "exception": false,
     "start_time": "2021-02-27T19:27:59.263543",
     "status": "completed"
    },
    "tags": []
   },
   "outputs": [
    {
     "name": "stdout",
     "output_type": "stream",
     "text": [
      "/kaggle/input/customer-segmentation/train.csv\n",
      "/kaggle/input/customer-segmentation/test.csv\n"
     ]
    }
   ],
   "source": [
    "# This Python 3 environment comes with many helpful analytics libraries installed\n",
    "# It is defined by the kaggle/python Docker image: https://github.com/kaggle/docker-python\n",
    "# For example, here's several helpful packages to load\n",
    "\n",
    "import numpy as np # linear algebra\n",
    "import pandas as pd # data processing, CSV file I/O (e.g. pd.read_csv)\n",
    "\n",
    "# Input data files are available in the read-only \"../input/\" directory\n",
    "# For example, running this (by clicking run or pressing Shift+Enter) will list all files under the input directory\n",
    "\n",
    "import os\n",
    "for dirname, _, filenames in os.walk('/kaggle/input'):\n",
    "    for filename in filenames:\n",
    "        print(os.path.join(dirname, filename))\n",
    "\n",
    "# You can write up to 20GB to the current directory (/kaggle/working/) that gets preserved as output when you create a version using \"Save & Run All\" \n",
    "# You can also write temporary files to /kaggle/temp/, but they won't be saved outside of the current session"
   ]
  },
  {
   "cell_type": "markdown",
   "metadata": {
    "papermill": {
     "duration": 0.033402,
     "end_time": "2021-02-27T19:27:59.386172",
     "exception": false,
     "start_time": "2021-02-27T19:27:59.352770",
     "status": "completed"
    },
    "tags": []
   },
   "source": [
    "Vamos a analizar primero los datos. Los tipos de datos por columna"
   ]
  },
  {
   "cell_type": "code",
   "execution_count": 2,
   "metadata": {
    "execution": {
     "iopub.execute_input": "2021-02-27T19:27:59.457930Z",
     "iopub.status.busy": "2021-02-27T19:27:59.457029Z",
     "iopub.status.idle": "2021-02-27T19:27:59.604063Z",
     "shell.execute_reply": "2021-02-27T19:27:59.603343Z"
    },
    "papermill": {
     "duration": 0.184325,
     "end_time": "2021-02-27T19:27:59.604225",
     "exception": false,
     "start_time": "2021-02-27T19:27:59.419900",
     "status": "completed"
    },
    "tags": []
   },
   "outputs": [
    {
     "name": "stdout",
     "output_type": "stream",
     "text": [
      "<class 'pandas.core.frame.DataFrame'>\n",
      "Int64Index: 6665 entries, 0 to 8067\n",
      "Data columns (total 11 columns):\n",
      " #   Column           Non-Null Count  Dtype  \n",
      "---  ------           --------------  -----  \n",
      " 0   ID               6665 non-null   int64  \n",
      " 1   Gender           6665 non-null   object \n",
      " 2   Ever_Married     6665 non-null   object \n",
      " 3   Age              6665 non-null   int64  \n",
      " 4   Graduated        6665 non-null   object \n",
      " 5   Profession       6665 non-null   object \n",
      " 6   Work_Experience  6665 non-null   float64\n",
      " 7   Spending_Score   6665 non-null   object \n",
      " 8   Family_Size      6665 non-null   float64\n",
      " 9   Var_1            6665 non-null   object \n",
      " 10  Segmentation     6665 non-null   object \n",
      "dtypes: float64(2), int64(2), object(7)\n",
      "memory usage: 624.8+ KB\n"
     ]
    },
    {
     "data": {
      "text/html": [
       "<div>\n",
       "<style scoped>\n",
       "    .dataframe tbody tr th:only-of-type {\n",
       "        vertical-align: middle;\n",
       "    }\n",
       "\n",
       "    .dataframe tbody tr th {\n",
       "        vertical-align: top;\n",
       "    }\n",
       "\n",
       "    .dataframe thead th {\n",
       "        text-align: right;\n",
       "    }\n",
       "</style>\n",
       "<table border=\"1\" class=\"dataframe\">\n",
       "  <thead>\n",
       "    <tr style=\"text-align: right;\">\n",
       "      <th></th>\n",
       "      <th>ID</th>\n",
       "      <th>Gender</th>\n",
       "      <th>Ever_Married</th>\n",
       "      <th>Age</th>\n",
       "      <th>Graduated</th>\n",
       "      <th>Profession</th>\n",
       "      <th>Work_Experience</th>\n",
       "      <th>Spending_Score</th>\n",
       "      <th>Family_Size</th>\n",
       "      <th>Var_1</th>\n",
       "      <th>Segmentation</th>\n",
       "    </tr>\n",
       "  </thead>\n",
       "  <tbody>\n",
       "    <tr>\n",
       "      <th>0</th>\n",
       "      <td>462809</td>\n",
       "      <td>Male</td>\n",
       "      <td>No</td>\n",
       "      <td>22</td>\n",
       "      <td>No</td>\n",
       "      <td>Healthcare</td>\n",
       "      <td>1.0</td>\n",
       "      <td>Low</td>\n",
       "      <td>4.0</td>\n",
       "      <td>Cat_4</td>\n",
       "      <td>D</td>\n",
       "    </tr>\n",
       "    <tr>\n",
       "      <th>2</th>\n",
       "      <td>466315</td>\n",
       "      <td>Female</td>\n",
       "      <td>Yes</td>\n",
       "      <td>67</td>\n",
       "      <td>Yes</td>\n",
       "      <td>Engineer</td>\n",
       "      <td>1.0</td>\n",
       "      <td>Low</td>\n",
       "      <td>1.0</td>\n",
       "      <td>Cat_6</td>\n",
       "      <td>B</td>\n",
       "    </tr>\n",
       "    <tr>\n",
       "      <th>3</th>\n",
       "      <td>461735</td>\n",
       "      <td>Male</td>\n",
       "      <td>Yes</td>\n",
       "      <td>67</td>\n",
       "      <td>Yes</td>\n",
       "      <td>Lawyer</td>\n",
       "      <td>0.0</td>\n",
       "      <td>High</td>\n",
       "      <td>2.0</td>\n",
       "      <td>Cat_6</td>\n",
       "      <td>B</td>\n",
       "    </tr>\n",
       "    <tr>\n",
       "      <th>5</th>\n",
       "      <td>461319</td>\n",
       "      <td>Male</td>\n",
       "      <td>Yes</td>\n",
       "      <td>56</td>\n",
       "      <td>No</td>\n",
       "      <td>Artist</td>\n",
       "      <td>0.0</td>\n",
       "      <td>Average</td>\n",
       "      <td>2.0</td>\n",
       "      <td>Cat_6</td>\n",
       "      <td>C</td>\n",
       "    </tr>\n",
       "    <tr>\n",
       "      <th>6</th>\n",
       "      <td>460156</td>\n",
       "      <td>Male</td>\n",
       "      <td>No</td>\n",
       "      <td>32</td>\n",
       "      <td>Yes</td>\n",
       "      <td>Healthcare</td>\n",
       "      <td>1.0</td>\n",
       "      <td>Low</td>\n",
       "      <td>3.0</td>\n",
       "      <td>Cat_6</td>\n",
       "      <td>C</td>\n",
       "    </tr>\n",
       "    <tr>\n",
       "      <th>...</th>\n",
       "      <td>...</td>\n",
       "      <td>...</td>\n",
       "      <td>...</td>\n",
       "      <td>...</td>\n",
       "      <td>...</td>\n",
       "      <td>...</td>\n",
       "      <td>...</td>\n",
       "      <td>...</td>\n",
       "      <td>...</td>\n",
       "      <td>...</td>\n",
       "      <td>...</td>\n",
       "    </tr>\n",
       "    <tr>\n",
       "      <th>8062</th>\n",
       "      <td>463002</td>\n",
       "      <td>Male</td>\n",
       "      <td>Yes</td>\n",
       "      <td>41</td>\n",
       "      <td>Yes</td>\n",
       "      <td>Artist</td>\n",
       "      <td>0.0</td>\n",
       "      <td>High</td>\n",
       "      <td>5.0</td>\n",
       "      <td>Cat_6</td>\n",
       "      <td>B</td>\n",
       "    </tr>\n",
       "    <tr>\n",
       "      <th>8064</th>\n",
       "      <td>464685</td>\n",
       "      <td>Male</td>\n",
       "      <td>No</td>\n",
       "      <td>35</td>\n",
       "      <td>No</td>\n",
       "      <td>Executive</td>\n",
       "      <td>3.0</td>\n",
       "      <td>Low</td>\n",
       "      <td>4.0</td>\n",
       "      <td>Cat_4</td>\n",
       "      <td>D</td>\n",
       "    </tr>\n",
       "    <tr>\n",
       "      <th>8065</th>\n",
       "      <td>465406</td>\n",
       "      <td>Female</td>\n",
       "      <td>No</td>\n",
       "      <td>33</td>\n",
       "      <td>Yes</td>\n",
       "      <td>Healthcare</td>\n",
       "      <td>1.0</td>\n",
       "      <td>Low</td>\n",
       "      <td>1.0</td>\n",
       "      <td>Cat_6</td>\n",
       "      <td>D</td>\n",
       "    </tr>\n",
       "    <tr>\n",
       "      <th>8066</th>\n",
       "      <td>467299</td>\n",
       "      <td>Female</td>\n",
       "      <td>No</td>\n",
       "      <td>27</td>\n",
       "      <td>Yes</td>\n",
       "      <td>Healthcare</td>\n",
       "      <td>1.0</td>\n",
       "      <td>Low</td>\n",
       "      <td>4.0</td>\n",
       "      <td>Cat_6</td>\n",
       "      <td>B</td>\n",
       "    </tr>\n",
       "    <tr>\n",
       "      <th>8067</th>\n",
       "      <td>461879</td>\n",
       "      <td>Male</td>\n",
       "      <td>Yes</td>\n",
       "      <td>37</td>\n",
       "      <td>Yes</td>\n",
       "      <td>Executive</td>\n",
       "      <td>0.0</td>\n",
       "      <td>Average</td>\n",
       "      <td>3.0</td>\n",
       "      <td>Cat_4</td>\n",
       "      <td>B</td>\n",
       "    </tr>\n",
       "  </tbody>\n",
       "</table>\n",
       "<p>6665 rows × 11 columns</p>\n",
       "</div>"
      ],
      "text/plain": [
       "          ID  Gender Ever_Married  Age Graduated  Profession  Work_Experience  \\\n",
       "0     462809    Male           No   22        No  Healthcare              1.0   \n",
       "2     466315  Female          Yes   67       Yes    Engineer              1.0   \n",
       "3     461735    Male          Yes   67       Yes      Lawyer              0.0   \n",
       "5     461319    Male          Yes   56        No      Artist              0.0   \n",
       "6     460156    Male           No   32       Yes  Healthcare              1.0   \n",
       "...      ...     ...          ...  ...       ...         ...              ...   \n",
       "8062  463002    Male          Yes   41       Yes      Artist              0.0   \n",
       "8064  464685    Male           No   35        No   Executive              3.0   \n",
       "8065  465406  Female           No   33       Yes  Healthcare              1.0   \n",
       "8066  467299  Female           No   27       Yes  Healthcare              1.0   \n",
       "8067  461879    Male          Yes   37       Yes   Executive              0.0   \n",
       "\n",
       "     Spending_Score  Family_Size  Var_1 Segmentation  \n",
       "0               Low          4.0  Cat_4            D  \n",
       "2               Low          1.0  Cat_6            B  \n",
       "3              High          2.0  Cat_6            B  \n",
       "5           Average          2.0  Cat_6            C  \n",
       "6               Low          3.0  Cat_6            C  \n",
       "...             ...          ...    ...          ...  \n",
       "8062           High          5.0  Cat_6            B  \n",
       "8064            Low          4.0  Cat_4            D  \n",
       "8065            Low          1.0  Cat_6            D  \n",
       "8066            Low          4.0  Cat_6            B  \n",
       "8067        Average          3.0  Cat_4            B  \n",
       "\n",
       "[6665 rows x 11 columns]"
      ]
     },
     "execution_count": 2,
     "metadata": {},
     "output_type": "execute_result"
    }
   ],
   "source": [
    "import pandas as pd\n",
    "import numpy as np\n",
    "import matplotlib.pyplot as plt\n",
    "\n",
    "data = pd.read_csv(\"../input/customer-segmentation/train.csv\")\n",
    "data = data.dropna()\n",
    "data.info()\n",
    "\n",
    "target = list(data[\"Segmentation\"].unique())\n",
    "data"
   ]
  },
  {
   "cell_type": "markdown",
   "metadata": {
    "papermill": {
     "duration": 0.03073,
     "end_time": "2021-02-27T19:27:59.665866",
     "exception": false,
     "start_time": "2021-02-27T19:27:59.635136",
     "status": "completed"
    },
    "tags": []
   },
   "source": [
    "Ahora vamos a ver como se distribuye los datos de la edad por cada segmento"
   ]
  },
  {
   "cell_type": "code",
   "execution_count": 3,
   "metadata": {
    "execution": {
     "iopub.execute_input": "2021-02-27T19:27:59.733248Z",
     "iopub.status.busy": "2021-02-27T19:27:59.732572Z",
     "iopub.status.idle": "2021-02-27T19:28:00.012876Z",
     "shell.execute_reply": "2021-02-27T19:28:00.013456Z"
    },
    "papermill": {
     "duration": 0.31725,
     "end_time": "2021-02-27T19:28:00.013654",
     "exception": false,
     "start_time": "2021-02-27T19:27:59.696404",
     "status": "completed"
    },
    "tags": []
   },
   "outputs": [
    {
     "data": {
      "text/plain": [
       "<AxesSubplot:title={'center':'Age'}, xlabel='[Segmentation]'>"
      ]
     },
     "execution_count": 3,
     "metadata": {},
     "output_type": "execute_result"
    },
    {
     "data": {
      "image/png": "[encoded data removed]",
      "text/plain": [
       "<Figure size 432x288 with 1 Axes>"
      ]
     },
     "metadata": {
      "needs_background": "light"
     },
     "output_type": "display_data"
    }
   ],
   "source": [
    "data.boxplot(column = [\"Age\"], by = [\"Segmentation\"])"
   ]
  },
  {
   "cell_type": "markdown",
   "metadata": {
    "papermill": {
     "duration": 0.031496,
     "end_time": "2021-02-27T19:28:00.078002",
     "exception": false,
     "start_time": "2021-02-27T19:28:00.046506",
     "status": "completed"
    },
    "tags": []
   },
   "source": [
    "Parece ser que el segmento C tiene una edad mediana mayor que el resto, aunque un poco mayor solamente que el segmento B. El segmento D parece ser el segmento con menor edad aunque hay muchos outliers. Ahora vamos a ver "
   ]
  },
  {
   "cell_type": "code",
   "execution_count": 4,
   "metadata": {
    "execution": {
     "iopub.execute_input": "2021-02-27T19:28:00.171161Z",
     "iopub.status.busy": "2021-02-27T19:28:00.165362Z",
     "iopub.status.idle": "2021-02-27T19:28:00.362716Z",
     "shell.execute_reply": "2021-02-27T19:28:00.362057Z"
    },
    "papermill": {
     "duration": 0.253013,
     "end_time": "2021-02-27T19:28:00.362859",
     "exception": false,
     "start_time": "2021-02-27T19:28:00.109846",
     "status": "completed"
    },
    "tags": []
   },
   "outputs": [
    {
     "data": {
      "text/plain": [
       "<AxesSubplot:title={'center':'Work_Experience'}, xlabel='[Segmentation]'>"
      ]
     },
     "execution_count": 4,
     "metadata": {},
     "output_type": "execute_result"
    },
    {
     "data": {
      "image/png": "[encoded data removed]",
      "text/plain": [
       "<Figure size 432x288 with 1 Axes>"
      ]
     },
     "metadata": {
      "needs_background": "light"
     },
     "output_type": "display_data"
    }
   ],
   "source": [
    "data.boxplot(column = [\"Work_Experience\"], by = [\"Segmentation\"])"
   ]
  },
  {
   "cell_type": "markdown",
   "metadata": {
    "papermill": {
     "duration": 0.033445,
     "end_time": "2021-02-27T19:28:00.433205",
     "exception": false,
     "start_time": "2021-02-27T19:28:00.399760",
     "status": "completed"
    },
    "tags": []
   },
   "source": [
    "Ahora vamos a ver como son los porcentajes de hombres y mujeres dentro de cada segmento"
   ]
  },
  {
   "cell_type": "code",
   "execution_count": 5,
   "metadata": {
    "execution": {
     "iopub.execute_input": "2021-02-27T19:28:00.519920Z",
     "iopub.status.busy": "2021-02-27T19:28:00.514140Z",
     "iopub.status.idle": "2021-02-27T19:28:00.799404Z",
     "shell.execute_reply": "2021-02-27T19:28:00.798844Z"
    },
    "papermill": {
     "duration": 0.332815,
     "end_time": "2021-02-27T19:28:00.799553",
     "exception": false,
     "start_time": "2021-02-27T19:28:00.466738",
     "status": "completed"
    },
    "tags": []
   },
   "outputs": [
    {
     "data": {
      "image/png": "[encoded data removed]",
      "text/plain": [
       "<Figure size 432x288 with 1 Axes>"
      ]
     },
     "metadata": {
      "needs_background": "light"
     },
     "output_type": "display_data"
    },
    {
     "data": {
      "text/plain": [
       "array(['Healthcare', 'Engineer', 'Lawyer', 'Artist', 'Doctor',\n",
       "       'Homemaker', 'Entertainment', 'Marketing', 'Executive'],\n",
       "      dtype=object)"
      ]
     },
     "execution_count": 5,
     "metadata": {},
     "output_type": "execute_result"
    }
   ],
   "source": [
    "Segments = [\"A\", \"B\", \"C\", \"D\"]\n",
    "Male = [len(data.loc[(data[\"Gender\"] == \"Male\") & (data[\"Segmentation\"] == \"A\")])/len(data)*100, len(data.loc[(data[\"Gender\"] == \"Male\") & (data[\"Segmentation\"] == \"B\")])/len(data)*100, len(data.loc[(data[\"Gender\"] == \"Male\") & (data[\"Segmentation\"] == \"C\")])/len(data)*100, len(data.loc[(data[\"Gender\"] == \"Male\") & (data[\"Segmentation\"] == \"D\")])/len(data)*100]\n",
    "Female = [len(data.loc[(data[\"Gender\"] == \"Female\") & (data[\"Segmentation\"] == \"A\")])/len(data)*100, len(data.loc[(data[\"Gender\"] == \"Female\") & (data[\"Segmentation\"] == \"B\")])/len(data)*100, len(data.loc[(data[\"Gender\"] == \"Female\") & (data[\"Segmentation\"] == \"C\")])/len(data)*100, len(data.loc[(data[\"Gender\"] == \"Female\") & (data[\"Segmentation\"] == \"D\")])/len(data)*100]\n",
    "\n",
    "x = np.arange(len(Segments))\n",
    "width = 0.35\n",
    "fig, ax = plt.subplots()\n",
    "rects1 = ax.bar(x - width/2, Male, width, label='Men')\n",
    "rects2 = ax.bar(x + width/2, Female, width, label='Women')\n",
    "\n",
    "# Add some text for labels, title and custom x-axis tick labels, etc.\n",
    "ax.set_ylabel('Percent')\n",
    "ax.set_title('Percent by Gender')\n",
    "ax.set_xticks(x)\n",
    "ax.set_xticklabels(Segments)\n",
    "ax.legend()\n",
    "\n",
    "\n",
    "def autolabel(rects):\n",
    "    \"\"\"Attach a text label above each bar in *rects*, displaying its height.\"\"\"\n",
    "    for rect in rects:\n",
    "        height = rect.get_height()\n",
    "        ax.annotate('{}'.format(height),\n",
    "                    xy=(rect.get_x() + rect.get_width() / 2, height),\n",
    "                    xytext=(0, 3),  # 3 points vertical offset\n",
    "                    textcoords=\"offset points\",\n",
    "                    ha='center', va='bottom')\n",
    "\n",
    "\n",
    "autolabel(rects1)\n",
    "autolabel(rects2)\n",
    "\n",
    "fig.tight_layout()\n",
    "\n",
    "plt.show()\n",
    "\n",
    "data[\"Profession\"].unique()"
   ]
  },
  {
   "cell_type": "markdown",
   "metadata": {
    "papermill": {
     "duration": 0.034334,
     "end_time": "2021-02-27T19:28:00.868122",
     "exception": false,
     "start_time": "2021-02-27T19:28:00.833788",
     "status": "completed"
    },
    "tags": []
   },
   "source": [
    "En todos los segmentos parece haber mas cantidad de hombres que de mujeres. Ahora vamos a ver como se distribuyen los datos de la profesion en cada segmento."
   ]
  },
  {
   "cell_type": "code",
   "execution_count": 6,
   "metadata": {
    "execution": {
     "iopub.execute_input": "2021-02-27T19:28:00.958771Z",
     "iopub.status.busy": "2021-02-27T19:28:00.953228Z",
     "iopub.status.idle": "2021-02-27T19:28:01.768108Z",
     "shell.execute_reply": "2021-02-27T19:28:01.767530Z"
    },
    "papermill": {
     "duration": 0.865878,
     "end_time": "2021-02-27T19:28:01.768278",
     "exception": false,
     "start_time": "2021-02-27T19:28:00.902400",
     "status": "completed"
    },
    "tags": []
   },
   "outputs": [
    {
     "data": {
      "text/plain": [
       "<BarContainer object of 8 artists>"
      ]
     },
     "execution_count": 6,
     "metadata": {},
     "output_type": "execute_result"
    },
    {
     "data": {
      "image/png": "[encoded data removed]",
      "text/plain": [
       "<Figure size 3456x864 with 4 Axes>"
      ]
     },
     "metadata": {
      "needs_background": "light"
     },
     "output_type": "display_data"
    }
   ],
   "source": [
    "A_Healthcare = len(data.loc[(data[\"Profession\"] == \"Healthcare\") & (data[\"Segmentation\"] == \"A\")])/len(data.loc[data[\"Segmentation\"] == \"A\"])\n",
    "A_Engineer = len(data.loc[(data[\"Profession\"] == \"Engineer\") & (data[\"Segmentation\"] == \"A\")])/len(data.loc[data[\"Segmentation\"] == \"A\"])\n",
    "A_Lawyer = len(data.loc[(data[\"Profession\"] == \"Lawyer\") & (data[\"Segmentation\"] == \"A\")])/len(data.loc[data[\"Segmentation\"] == \"A\"])\n",
    "A_Artist = len(data.loc[(data[\"Profession\"] == \"Artist\") & (data[\"Segmentation\"] == \"A\")])/len(data.loc[data[\"Segmentation\"] == \"A\"])\n",
    "A_Doctor = len(data.loc[(data[\"Profession\"] == \"Doctor\") & (data[\"Segmentation\"] == \"A\")])/len(data.loc[data[\"Segmentation\"] == \"A\"])\n",
    "A_Homemaker = len(data.loc[(data[\"Profession\"] == \"Homemaker\") & (data[\"Segmentation\"] == \"A\")])/len(data.loc[data[\"Segmentation\"] == \"A\"])\n",
    "A_Entertainment = len(data.loc[(data[\"Profession\"] == \"Entertainment\") & (data[\"Segmentation\"] == \"A\")])/len(data.loc[data[\"Segmentation\"] == \"A\"])\n",
    "A_Marketing = len(data.loc[(data[\"Profession\"] == \"Marketing\") & (data[\"Segmentation\"] == \"A\")])/len(data.loc[data[\"Segmentation\"] == \"A\"])\n",
    "A_Executive = len(data.loc[(data[\"Profession\"] == \"Executive\") & (data[\"Segmentation\"] == \"A\")])/len(data.loc[data[\"Segmentation\"] == \"A\"])\n",
    "\n",
    "B_Healthcare = len(data.loc[(data[\"Profession\"] == \"Healthcare\") & (data[\"Segmentation\"] == \"B\")])/len(data.loc[data[\"Segmentation\"] == \"B\"])\n",
    "B_Engineer = len(data.loc[(data[\"Profession\"] == \"Engineer\") & (data[\"Segmentation\"] == \"B\")])/len(data.loc[data[\"Segmentation\"] == \"B\"])\n",
    "B_Lawyer = len(data.loc[(data[\"Profession\"] == \"Lawyer\") & (data[\"Segmentation\"] == \"B\")])/len(data.loc[data[\"Segmentation\"] == \"B\"])\n",
    "B_Artist = len(data.loc[(data[\"Profession\"] == \"Artist\") & (data[\"Segmentation\"] == \"B\")])/len(data.loc[data[\"Segmentation\"] == \"B\"])\n",
    "B_Doctor = len(data.loc[(data[\"Profession\"] == \"Doctor\") & (data[\"Segmentation\"] == \"B\")])/len(data.loc[data[\"Segmentation\"] == \"B\"])\n",
    "B_Homemaker = len(data.loc[(data[\"Profession\"] == \"Homemaker\") & (data[\"Segmentation\"] == \"B\")])/len(data.loc[data[\"Segmentation\"] == \"B\"])\n",
    "B_Entertainment = len(data.loc[(data[\"Profession\"] == \"Entertainment\") & (data[\"Segmentation\"] == \"B\")])/len(data.loc[data[\"Segmentation\"] == \"B\"])\n",
    "B_Marketing = len(data.loc[(data[\"Profession\"] == \"Marketing\") & (data[\"Segmentation\"] == \"B\")])/len(data.loc[data[\"Segmentation\"] == \"B\"])\n",
    "B_Executive = len(data.loc[(data[\"Profession\"] == \"Executive\") & (data[\"Segmentation\"] == \"B\")])/len(data.loc[data[\"Segmentation\"] == \"B\"])\n",
    "\n",
    "C_Healthcare = len(data.loc[(data[\"Profession\"] == \"Healthcare\") & (data[\"Segmentation\"] == \"C\")])/len(data.loc[data[\"Segmentation\"] == \"C\"])\n",
    "C_Engineer = len(data.loc[(data[\"Profession\"] == \"Engineer\") & (data[\"Segmentation\"] == \"C\")])/len(data.loc[data[\"Segmentation\"] == \"C\"])\n",
    "C_Lawyer = len(data.loc[(data[\"Profession\"] == \"Lawyer\") & (data[\"Segmentation\"] == \"C\")])/len(data.loc[data[\"Segmentation\"] == \"C\"])\n",
    "C_Artist = len(data.loc[(data[\"Profession\"] == \"Artist\") & (data[\"Segmentation\"] == \"C\")])/len(data.loc[data[\"Segmentation\"] == \"C\"])\n",
    "C_Doctor = len(data.loc[(data[\"Profession\"] == \"Doctor\") & (data[\"Segmentation\"] == \"C\")])/len(data.loc[data[\"Segmentation\"] == \"C\"])\n",
    "C_Homemaker = len(data.loc[(data[\"Profession\"] == \"Homemaker\") & (data[\"Segmentation\"] == \"C\")])/len(data.loc[data[\"Segmentation\"] == \"C\"])\n",
    "C_Entertainment = len(data.loc[(data[\"Profession\"] == \"Entertainment\") & (data[\"Segmentation\"] == \"C\")])/len(data.loc[data[\"Segmentation\"] == \"C\"])\n",
    "C_Marketing = len(data.loc[(data[\"Profession\"] == \"Marketing\") & (data[\"Segmentation\"] == \"C\")])/len(data.loc[data[\"Segmentation\"] == \"C\"])\n",
    "C_Executive = len(data.loc[(data[\"Profession\"] == \"Executive\") & (data[\"Segmentation\"] == \"C\")])/len(data.loc[data[\"Segmentation\"] == \"C\"])\n",
    "\n",
    "D_Healthcare = len(data.loc[(data[\"Profession\"] == \"Healthcare\") & (data[\"Segmentation\"] == \"D\")])/len(data.loc[data[\"Segmentation\"] == \"D\"])\n",
    "D_Engineer = len(data.loc[(data[\"Profession\"] == \"Engineer\") & (data[\"Segmentation\"] == \"D\")])/len(data.loc[data[\"Segmentation\"] == \"D\"])\n",
    "D_Lawyer = len(data.loc[(data[\"Profession\"] == \"Lawyer\") & (data[\"Segmentation\"] == \"D\")])/len(data.loc[data[\"Segmentation\"] == \"D\"])\n",
    "D_Artist = len(data.loc[(data[\"Profession\"] == \"Artist\") & (data[\"Segmentation\"] == \"D\")])/len(data.loc[data[\"Segmentation\"] == \"D\"])\n",
    "D_Doctor = len(data.loc[(data[\"Profession\"] == \"Doctor\") & (data[\"Segmentation\"] == \"D\")])/len(data.loc[data[\"Segmentation\"] == \"D\"])\n",
    "D_Homemaker = len(data.loc[(data[\"Profession\"] == \"Homemaker\") & (data[\"Segmentation\"] == \"D\")])/len(data.loc[data[\"Segmentation\"] == \"D\"])\n",
    "D_Entertainment = len(data.loc[(data[\"Profession\"] == \"Entertainment\") & (data[\"Segmentation\"] == \"D\")])/len(data.loc[data[\"Segmentation\"] == \"D\"])\n",
    "D_Marketing = len(data.loc[(data[\"Profession\"] == \"Entertainment\") & (data[\"Segmentation\"] == \"D\")])/len(data.loc[data[\"Segmentation\"] == \"D\"])\n",
    "D_Executive = len(data.loc[(data[\"Profession\"] == \"Executive\") & (data[\"Segmentation\"] == \"D\")])/len(data.loc[data[\"Segmentation\"] == \"D\"])\n",
    "\n",
    "\n",
    "\n",
    "data_A = {\"Healthcare\": A_Healthcare*100, \"Engineer\": A_Engineer*100, \"Lawyer\": A_Lawyer*100, \"Artist\": A_Artist*100, \"Doctor\": A_Doctor*100, \"Homemaker\": A_Homemaker*100, \"Entertainment\": A_Entertainment*100, \"Executive\": A_Executive*100}\n",
    "data_B = {\"Healthcare\": B_Healthcare*100, \"Engineer\": B_Engineer*100, \"Lawyer\": B_Lawyer*100, \"Artist\": B_Artist*100, \"Doctor\": B_Doctor*100, \"Homemaker\": B_Homemaker*100, \"Entertainment\": B_Entertainment*100, \"Executive\": B_Executive*100}\n",
    "data_C = {\"Healthcare\": C_Healthcare*100, \"Engineer\": C_Engineer*100, \"Lawyer\": C_Lawyer*100, \"Artist\": C_Artist*100, \"Doctor\": C_Doctor*100, \"Homemaker\": C_Homemaker*100, \"Entertainment\": C_Entertainment*100, \"Executive\": C_Executive*100}\n",
    "data_D = {\"Healthcare\": D_Healthcare*100, \"Engineer\": D_Engineer*100, \"Lawyer\": D_Lawyer*100, \"Artist\": D_Artist*100, \"Doctor\": D_Doctor*100, \"Homemaker\": D_Homemaker*100, \"Entertainment\": D_Entertainment*100, \"Executive\": D_Executive*100}\n",
    "\n",
    "fig, axs = plt.subplots(1, 4, figsize=(48, 12), sharey=True)\n",
    "axs[0].bar(list(data_A.keys()), list(data_A.values()), color = \"red\")\n",
    "axs[1].bar(list(data_B.keys()), list(data_B.values()), color = \"purple\")\n",
    "axs[2].bar(list(data_C.keys()), list(data_C.values()), color = \"green\")\n",
    "axs[3].bar(list(data_D.keys()), list(data_D.values()), color = \"orange\")"
   ]
  },
  {
   "cell_type": "markdown",
   "metadata": {
    "papermill": {
     "duration": 0.03518,
     "end_time": "2021-02-27T19:28:01.839459",
     "exception": false,
     "start_time": "2021-02-27T19:28:01.804279",
     "status": "completed"
    },
    "tags": []
   },
   "source": [
    "En tres segmentos, en especifico en los segmentos A, B y C, El grupo que mas aparece es el de los Artistas. Aunque en el segmento D el grupo que tiene mayor preponderancia es el grupo de los medicos."
   ]
  },
  {
   "cell_type": "markdown",
   "metadata": {
    "papermill": {
     "duration": 0.035405,
     "end_time": "2021-02-27T19:28:01.911204",
     "exception": false,
     "start_time": "2021-02-27T19:28:01.875799",
     "status": "completed"
    },
    "tags": []
   },
   "source": [
    "Ahora veremos el porcentaje de casados y no casados en cada segmento"
   ]
  },
  {
   "cell_type": "code",
   "execution_count": 7,
   "metadata": {
    "execution": {
     "iopub.execute_input": "2021-02-27T19:28:02.017624Z",
     "iopub.status.busy": "2021-02-27T19:28:02.012250Z",
     "iopub.status.idle": "2021-02-27T19:28:02.296804Z",
     "shell.execute_reply": "2021-02-27T19:28:02.296183Z"
    },
    "papermill": {
     "duration": 0.349838,
     "end_time": "2021-02-27T19:28:02.296964",
     "exception": false,
     "start_time": "2021-02-27T19:28:01.947126",
     "status": "completed"
    },
    "tags": []
   },
   "outputs": [
    {
     "data": {
      "image/png": "[encoded data removed]",
      "text/plain": [
       "<Figure size 432x288 with 1 Axes>"
      ]
     },
     "metadata": {
      "needs_background": "light"
     },
     "output_type": "display_data"
    }
   ],
   "source": [
    "Ever_married_NO_A = len(data.loc[(data[\"Segmentation\"] == \"A\") & (data[\"Ever_Married\"] == \"No\")])/len(data.loc[data[\"Segmentation\"] == \"A\"])\n",
    "Ever_married_NO_B = len(data.loc[(data[\"Segmentation\"] == \"B\") & (data[\"Ever_Married\"] == \"No\")])/len(data.loc[data[\"Segmentation\"] == \"B\"])\n",
    "Ever_married_NO_C = len(data.loc[(data[\"Segmentation\"] == \"C\") & (data[\"Ever_Married\"] == \"No\")])/len(data.loc[data[\"Segmentation\"] == \"C\"])\n",
    "Ever_married_NO_D = len(data.loc[(data[\"Segmentation\"] == \"D\") & (data[\"Ever_Married\"] == \"No\")])/len(data.loc[data[\"Segmentation\"] == \"D\"])\n",
    "\n",
    "Ever_married_YES_A = len(data.loc[(data[\"Segmentation\"] == \"A\") & (data[\"Ever_Married\"] == \"Yes\")])/len(data.loc[data[\"Segmentation\"] == \"A\"])\n",
    "Ever_married_YES_B = len(data.loc[(data[\"Segmentation\"] == \"B\") & (data[\"Ever_Married\"] == \"Yes\")])/len(data.loc[data[\"Segmentation\"] == \"B\"])\n",
    "Ever_married_YES_C = len(data.loc[(data[\"Segmentation\"] == \"C\") & (data[\"Ever_Married\"] == \"Yes\")])/len(data.loc[data[\"Segmentation\"] == \"C\"])\n",
    "Ever_married_YES_D = len(data.loc[(data[\"Segmentation\"] == \"D\") & (data[\"Ever_Married\"] == \"Yes\")])/len(data.loc[data[\"Segmentation\"] == \"D\"])\n",
    "\n",
    "Segments = [\"A\", \"B\", \"C\", \"D\"]\n",
    "NO = [Ever_married_NO_A*100, Ever_married_NO_B*100, Ever_married_NO_C*100, Ever_married_NO_D*100]\n",
    "YES = [Ever_married_YES_A*100, Ever_married_YES_B*100, Ever_married_YES_C*100, Ever_married_YES_D*100]\n",
    "\n",
    "\n",
    "x = np.arange(len(Segments))\n",
    "width = 0.35\n",
    "fig, ax = plt.subplots()\n",
    "rects1 = ax.bar(x - width/2, NO, width, label='Ever_married:NO')\n",
    "rects2 = ax.bar(x + width/2, YES, width, label='Ever_married:YES')\n",
    "\n",
    "# Add some text for labels, title and custom x-axis tick labels, etc.\n",
    "ax.set_ylabel('Percent')\n",
    "ax.set_title('Percent by Married')\n",
    "ax.set_xticks(x)\n",
    "ax.set_xticklabels(Segments)\n",
    "ax.legend()\n",
    "\n",
    "\n",
    "def autolabel(rects):\n",
    "    \"\"\"Attach a text label above each bar in *rects*, displaying its height.\"\"\"\n",
    "    for rect in rects:\n",
    "        height = rect.get_height()\n",
    "        ax.annotate('{}'.format(height),\n",
    "                    xy=(rect.get_x() + rect.get_width() / 2, height),\n",
    "                    xytext=(0, 3),  # 3 points vertical offset\n",
    "                    textcoords=\"offset points\",\n",
    "                    ha='center', va='bottom')\n",
    "\n",
    "\n",
    "autolabel(rects1)\n",
    "autolabel(rects2)\n",
    "\n",
    "fig.tight_layout()\n",
    "\n",
    "plt.show()"
   ]
  },
  {
   "cell_type": "markdown",
   "metadata": {
    "papermill": {
     "duration": 0.037138,
     "end_time": "2021-02-27T19:28:02.370922",
     "exception": false,
     "start_time": "2021-02-27T19:28:02.333784",
     "status": "completed"
    },
    "tags": []
   },
   "source": [
    "Pareciera ser que en casi todos los segmentos menos en el D, predomina el grupo de los que por lo menos una vez sea han casado."
   ]
  },
  {
   "cell_type": "markdown",
   "metadata": {
    "papermill": {
     "duration": 0.036327,
     "end_time": "2021-02-27T19:28:02.444168",
     "exception": false,
     "start_time": "2021-02-27T19:28:02.407841",
     "status": "completed"
    },
    "tags": []
   },
   "source": [
    "Ahora vamos a ver como se distribuye el tamaño de la familia en cada segmento"
   ]
  },
  {
   "cell_type": "code",
   "execution_count": 8,
   "metadata": {
    "execution": {
     "iopub.execute_input": "2021-02-27T19:28:02.634639Z",
     "iopub.status.busy": "2021-02-27T19:28:02.625094Z",
     "iopub.status.idle": "2021-02-27T19:28:02.825818Z",
     "shell.execute_reply": "2021-02-27T19:28:02.825091Z"
    },
    "papermill": {
     "duration": 0.344278,
     "end_time": "2021-02-27T19:28:02.825984",
     "exception": false,
     "start_time": "2021-02-27T19:28:02.481706",
     "status": "completed"
    },
    "tags": []
   },
   "outputs": [
    {
     "data": {
      "text/plain": [
       "<AxesSubplot:title={'center':'Family_Size'}, xlabel='[Segmentation]'>"
      ]
     },
     "execution_count": 8,
     "metadata": {},
     "output_type": "execute_result"
    },
    {
     "data": {
      "image/png": "[encoded data removed]",
      "text/plain": [
       "<Figure size 432x288 with 1 Axes>"
      ]
     },
     "metadata": {
      "needs_background": "light"
     },
     "output_type": "display_data"
    }
   ],
   "source": [
    "data.boxplot(column = [\"Family_Size\"], by = [\"Segmentation\"])"
   ]
  },
  {
   "cell_type": "markdown",
   "metadata": {
    "papermill": {
     "duration": 0.037692,
     "end_time": "2021-02-27T19:28:02.901683",
     "exception": false,
     "start_time": "2021-02-27T19:28:02.863991",
     "status": "completed"
    },
    "tags": []
   },
   "source": [
    "A continuacion lo que vamos a realizar es lo siguiente: Vamos a considerar varios modelos de clasificacion y vamos a elegir aquel modelo que mejor prediga los datos de una nueva muestra."
   ]
  },
  {
   "cell_type": "code",
   "execution_count": 9,
   "metadata": {
    "execution": {
     "iopub.execute_input": "2021-02-27T19:28:02.985296Z",
     "iopub.status.busy": "2021-02-27T19:28:02.984449Z",
     "iopub.status.idle": "2021-02-27T19:28:04.563071Z",
     "shell.execute_reply": "2021-02-27T19:28:04.562144Z"
    },
    "papermill": {
     "duration": 1.62364,
     "end_time": "2021-02-27T19:28:04.563249",
     "exception": false,
     "start_time": "2021-02-27T19:28:02.939609",
     "status": "completed"
    },
    "tags": []
   },
   "outputs": [
    {
     "data": {
      "text/plain": [
       "6665"
      ]
     },
     "execution_count": 9,
     "metadata": {},
     "output_type": "execute_result"
    }
   ],
   "source": [
    "from sklearn.discriminant_analysis import LinearDiscriminantAnalysis\n",
    "from sklearn.discriminant_analysis import QuadraticDiscriminantAnalysis\n",
    "from sklearn.metrics import confusion_matrix, classification_report, precision_score\n",
    "from sklearn import preprocessing\n",
    "from sklearn.metrics import confusion_matrix\n",
    "from sklearn.model_selection import train_test_split\n",
    "from sklearn.neighbors import KNeighborsClassifier\n",
    "from sklearn.tree import DecisionTreeClassifier\n",
    "from sklearn.tree import plot_tree\n",
    "from sklearn.ensemble import BaggingClassifier, RandomForestClassifier, GradientBoostingClassifier\n",
    "len(data)"
   ]
  },
  {
   "cell_type": "markdown",
   "metadata": {
    "papermill": {
     "duration": 0.040058,
     "end_time": "2021-02-27T19:28:04.643307",
     "exception": false,
     "start_time": "2021-02-27T19:28:04.603249",
     "status": "completed"
    },
    "tags": []
   },
   "source": [
    "Primero vamos a considerar el modelo de Linear Discriminant Analysis"
   ]
  },
  {
   "cell_type": "markdown",
   "metadata": {
    "papermill": {
     "duration": 0.039304,
     "end_time": "2021-02-27T19:28:04.722618",
     "exception": false,
     "start_time": "2021-02-27T19:28:04.683314",
     "status": "completed"
    },
    "tags": []
   },
   "source": [
    "Primero prepararemos los datos de modo de convertir los datos nominales en datos numericos. Luego entrenamos el modelo con todas las observaciones para ver si nos entrena de forma adecuada y calcularemos las probabilidades a priori y demas."
   ]
  },
  {
   "cell_type": "code",
   "execution_count": 10,
   "metadata": {
    "execution": {
     "iopub.execute_input": "2021-02-27T19:28:04.812333Z",
     "iopub.status.busy": "2021-02-27T19:28:04.809921Z",
     "iopub.status.idle": "2021-02-27T19:28:04.935982Z",
     "shell.execute_reply": "2021-02-27T19:28:04.936910Z"
    },
    "papermill": {
     "duration": 0.175342,
     "end_time": "2021-02-27T19:28:04.937257",
     "exception": false,
     "start_time": "2021-02-27T19:28:04.761915",
     "status": "completed"
    },
    "tags": []
   },
   "outputs": [
    {
     "name": "stderr",
     "output_type": "stream",
     "text": [
      "/opt/conda/lib/python3.7/site-packages/sklearn/utils/validation.py:63: DataConversionWarning: A column-vector y was passed when a 1d array was expected. Please change the shape of y to (n_samples, ), for example using ravel().\n",
      "  return f(*args, **kwargs)\n"
     ]
    },
    {
     "data": {
      "text/plain": [
       "array([[ 782,  133,  341,  360],\n",
       "       [ 524,  189,  665,  194],\n",
       "       [ 268,  135, 1091,  226],\n",
       "       [ 337,   68,   90, 1262]])"
      ]
     },
     "execution_count": 10,
     "metadata": {},
     "output_type": "execute_result"
    }
   ],
   "source": [
    "for column in data.columns:\n",
    "  if data[column].dtype == type(object):\n",
    "    le = preprocessing.LabelEncoder()\n",
    "    data[column] = le.fit_transform(data[column])\n",
    "\n",
    "X = data.drop([\"ID\", \"Segmentation\"], axis = 1).to_numpy()\n",
    "Y = data[\"Segmentation\"].to_numpy().reshape(len(data), 1)\n",
    "\n",
    "LDA = LinearDiscriminantAnalysis()\n",
    "LDA.fit(X, Y)\n",
    "\n",
    "y_pred = LDA.predict(X).tolist()\n",
    "y_true = Y.T.tolist()[0]\n",
    "\n",
    "predictions = pd.DataFrame(data = {\"y_real\": y_true, \"y_pred\": y_pred})\n",
    "\n",
    "confusion_matrix(y_true = y_true, y_pred = y_pred, labels = [0,1,2,3])"
   ]
  },
  {
   "cell_type": "code",
   "execution_count": 11,
   "metadata": {
    "execution": {
     "iopub.execute_input": "2021-02-27T19:28:05.057352Z",
     "iopub.status.busy": "2021-02-27T19:28:05.056431Z",
     "iopub.status.idle": "2021-02-27T19:28:05.062095Z",
     "shell.execute_reply": "2021-02-27T19:28:05.061439Z"
    },
    "papermill": {
     "duration": 0.058701,
     "end_time": "2021-02-27T19:28:05.062278",
     "exception": false,
     "start_time": "2021-02-27T19:28:05.003577",
     "status": "completed"
    },
    "tags": []
   },
   "outputs": [
    {
     "data": {
      "text/html": [
       "<div>\n",
       "<style scoped>\n",
       "    .dataframe tbody tr th:only-of-type {\n",
       "        vertical-align: middle;\n",
       "    }\n",
       "\n",
       "    .dataframe tbody tr th {\n",
       "        vertical-align: top;\n",
       "    }\n",
       "\n",
       "    .dataframe thead th {\n",
       "        text-align: right;\n",
       "    }\n",
       "</style>\n",
       "<table border=\"1\" class=\"dataframe\">\n",
       "  <thead>\n",
       "    <tr style=\"text-align: right;\">\n",
       "      <th></th>\n",
       "      <th>y_real</th>\n",
       "      <th>y_pred</th>\n",
       "    </tr>\n",
       "  </thead>\n",
       "  <tbody>\n",
       "    <tr>\n",
       "      <th>0</th>\n",
       "      <td>3</td>\n",
       "      <td>3</td>\n",
       "    </tr>\n",
       "    <tr>\n",
       "      <th>1</th>\n",
       "      <td>1</td>\n",
       "      <td>1</td>\n",
       "    </tr>\n",
       "    <tr>\n",
       "      <th>2</th>\n",
       "      <td>1</td>\n",
       "      <td>2</td>\n",
       "    </tr>\n",
       "    <tr>\n",
       "      <th>3</th>\n",
       "      <td>2</td>\n",
       "      <td>2</td>\n",
       "    </tr>\n",
       "    <tr>\n",
       "      <th>4</th>\n",
       "      <td>2</td>\n",
       "      <td>3</td>\n",
       "    </tr>\n",
       "    <tr>\n",
       "      <th>...</th>\n",
       "      <td>...</td>\n",
       "      <td>...</td>\n",
       "    </tr>\n",
       "    <tr>\n",
       "      <th>6660</th>\n",
       "      <td>1</td>\n",
       "      <td>2</td>\n",
       "    </tr>\n",
       "    <tr>\n",
       "      <th>6661</th>\n",
       "      <td>3</td>\n",
       "      <td>3</td>\n",
       "    </tr>\n",
       "    <tr>\n",
       "      <th>6662</th>\n",
       "      <td>3</td>\n",
       "      <td>3</td>\n",
       "    </tr>\n",
       "    <tr>\n",
       "      <th>6663</th>\n",
       "      <td>1</td>\n",
       "      <td>3</td>\n",
       "    </tr>\n",
       "    <tr>\n",
       "      <th>6664</th>\n",
       "      <td>1</td>\n",
       "      <td>2</td>\n",
       "    </tr>\n",
       "  </tbody>\n",
       "</table>\n",
       "<p>6665 rows × 2 columns</p>\n",
       "</div>"
      ],
      "text/plain": [
       "      y_real  y_pred\n",
       "0          3       3\n",
       "1          1       1\n",
       "2          1       2\n",
       "3          2       2\n",
       "4          2       3\n",
       "...      ...     ...\n",
       "6660       1       2\n",
       "6661       3       3\n",
       "6662       3       3\n",
       "6663       1       3\n",
       "6664       1       2\n",
       "\n",
       "[6665 rows x 2 columns]"
      ]
     },
     "execution_count": 11,
     "metadata": {},
     "output_type": "execute_result"
    }
   ],
   "source": [
    "predictions"
   ]
  },
  {
   "cell_type": "code",
   "execution_count": 12,
   "metadata": {
    "execution": {
     "iopub.execute_input": "2021-02-27T19:28:05.149678Z",
     "iopub.status.busy": "2021-02-27T19:28:05.148778Z",
     "iopub.status.idle": "2021-02-27T19:28:05.154048Z",
     "shell.execute_reply": "2021-02-27T19:28:05.153361Z"
    },
    "papermill": {
     "duration": 0.051588,
     "end_time": "2021-02-27T19:28:05.154207",
     "exception": false,
     "start_time": "2021-02-27T19:28:05.102619",
     "status": "completed"
    },
    "tags": []
   },
   "outputs": [
    {
     "data": {
      "text/plain": [
       "array([0.24246062, 0.23585896, 0.25806452, 0.2636159 ])"
      ]
     },
     "execution_count": 12,
     "metadata": {},
     "output_type": "execute_result"
    }
   ],
   "source": [
    "LDA.priors_ #Probabilidades a priori de cada clase"
   ]
  },
  {
   "cell_type": "markdown",
   "metadata": {
    "papermill": {
     "duration": 0.041564,
     "end_time": "2021-02-27T19:28:05.236815",
     "exception": false,
     "start_time": "2021-02-27T19:28:05.195251",
     "status": "completed"
    },
    "tags": []
   },
   "source": [
    "Interesante parece ser que el segmento D es el segmento que tiene mas observaciones en forma relativa"
   ]
  },
  {
   "cell_type": "code",
   "execution_count": 13,
   "metadata": {
    "execution": {
     "iopub.execute_input": "2021-02-27T19:28:05.326252Z",
     "iopub.status.busy": "2021-02-27T19:28:05.325358Z",
     "iopub.status.idle": "2021-02-27T19:28:05.330583Z",
     "shell.execute_reply": "2021-02-27T19:28:05.331138Z"
    },
    "papermill": {
     "duration": 0.053344,
     "end_time": "2021-02-27T19:28:05.331360",
     "exception": false,
     "start_time": "2021-02-27T19:28:05.278016",
     "status": "completed"
    },
    "tags": []
   },
   "outputs": [
    {
     "data": {
      "text/plain": [
       "array([[ 0.54207921,  0.58168317, 44.42141089,  0.63428218,  2.57240099,\n",
       "         2.88861386,  1.53341584,  2.43193069,  4.12190594],\n",
       "       [ 0.53435115,  0.73346056, 48.11323155,  0.7321883 ,  2.17938931,\n",
       "         2.3937659 ,  1.16475827,  2.68256997,  4.19211196],\n",
       "       [ 0.5377907 ,  0.80348837, 49.32790698,  0.83372093,  1.81162791,\n",
       "         2.2244186 ,  0.86046512,  2.96162791,  4.43372093],\n",
       "       [ 0.58964143,  0.26693227, 32.95674445,  0.3636881 ,  4.15651679,\n",
       "         2.99715424,  1.82868526,  3.24132043,  3.96812749]])"
      ]
     },
     "execution_count": 13,
     "metadata": {},
     "output_type": "execute_result"
    }
   ],
   "source": [
    "LDA.means_ #Media de cada predictor dentro de cada clase"
   ]
  },
  {
   "cell_type": "markdown",
   "metadata": {
    "papermill": {
     "duration": 0.041157,
     "end_time": "2021-02-27T19:28:05.414817",
     "exception": false,
     "start_time": "2021-02-27T19:28:05.373660",
     "status": "completed"
    },
    "tags": []
   },
   "source": [
    "Ahora lo que vamos a calcular es la matriz de confusion del modelo, pero ahoa vamos a dividi la muestra en entrenamiento y prueba de modo que nos permita testear el modelo para ver el nivel de prediccion con nuevas observaciones con las que no fue entrenado"
   ]
  },
  {
   "cell_type": "code",
   "execution_count": 14,
   "metadata": {
    "execution": {
     "iopub.execute_input": "2021-02-27T19:28:05.505576Z",
     "iopub.status.busy": "2021-02-27T19:28:05.504527Z",
     "iopub.status.idle": "2021-02-27T19:28:05.541047Z",
     "shell.execute_reply": "2021-02-27T19:28:05.542004Z"
    },
    "papermill": {
     "duration": 0.086754,
     "end_time": "2021-02-27T19:28:05.542299",
     "exception": false,
     "start_time": "2021-02-27T19:28:05.455545",
     "status": "completed"
    },
    "tags": []
   },
   "outputs": [
    {
     "name": "stderr",
     "output_type": "stream",
     "text": [
      "/opt/conda/lib/python3.7/site-packages/sklearn/utils/validation.py:63: DataConversionWarning: A column-vector y was passed when a 1d array was expected. Please change the shape of y to (n_samples, ), for example using ravel().\n",
      "  return f(*args, **kwargs)\n"
     ]
    },
    {
     "data": {
      "text/plain": [
       "array([[216,  67, 102, 125],\n",
       "       [142,  70, 204,  62],\n",
       "       [ 63,  58, 323,  58],\n",
       "       [ 86,  22,  29, 373]])"
      ]
     },
     "execution_count": 14,
     "metadata": {},
     "output_type": "execute_result"
    }
   ],
   "source": [
    "LDA = LinearDiscriminantAnalysis()\n",
    "X_train, X_test, Y_train, Y_test = train_test_split(X, Y, test_size = 0.3, )\n",
    "LDA.fit(X_train, Y_train)\n",
    "\n",
    "Y_test = Y_test.T.tolist()[0]\n",
    "y_pred = LDA.predict(X_test).tolist()\n",
    "\n",
    "confusion = confusion_matrix(Y_test, y_pred, labels = [0, 1, 2, 3])\n",
    "\n",
    "sum_confusion = []\n",
    "for k in range(0, 3):\n",
    "  sum_confusion.append(sum(confusion.tolist()[k]))\n",
    "\n",
    "accuracy = (confusion[0][0] + confusion[1][1] + confusion[2][2] + confusion[3][3])/sum(sum_confusion)\n",
    "confusion"
   ]
  },
  {
   "cell_type": "code",
   "execution_count": 15,
   "metadata": {
    "execution": {
     "iopub.execute_input": "2021-02-27T19:28:05.674136Z",
     "iopub.status.busy": "2021-02-27T19:28:05.673470Z",
     "iopub.status.idle": "2021-02-27T19:28:05.677908Z",
     "shell.execute_reply": "2021-02-27T19:28:05.677319Z"
    },
    "papermill": {
     "duration": 0.061891,
     "end_time": "2021-02-27T19:28:05.678094",
     "exception": false,
     "start_time": "2021-02-27T19:28:05.616203",
     "status": "completed"
    },
    "tags": []
   },
   "outputs": [
    {
     "data": {
      "text/plain": [
       "0.6590604026845638"
      ]
     },
     "execution_count": 15,
     "metadata": {},
     "output_type": "execute_result"
    }
   ],
   "source": [
    "accuracy"
   ]
  },
  {
   "cell_type": "markdown",
   "metadata": {
    "papermill": {
     "duration": 0.042886,
     "end_time": "2021-02-27T19:28:05.762811",
     "exception": false,
     "start_time": "2021-02-27T19:28:05.719925",
     "status": "completed"
    },
    "tags": []
   },
   "source": [
    "Vemos que el accuracy del modelo se encuentra alrededor del 65%. Ahora vamos a considerar el modelo Quadratic Discriminant Analysis"
   ]
  },
  {
   "cell_type": "code",
   "execution_count": 16,
   "metadata": {
    "execution": {
     "iopub.execute_input": "2021-02-27T19:28:05.854213Z",
     "iopub.status.busy": "2021-02-27T19:28:05.853486Z",
     "iopub.status.idle": "2021-02-27T19:28:05.878625Z",
     "shell.execute_reply": "2021-02-27T19:28:05.878090Z"
    },
    "papermill": {
     "duration": 0.074067,
     "end_time": "2021-02-27T19:28:05.878770",
     "exception": false,
     "start_time": "2021-02-27T19:28:05.804703",
     "status": "completed"
    },
    "tags": []
   },
   "outputs": [
    {
     "name": "stderr",
     "output_type": "stream",
     "text": [
      "/opt/conda/lib/python3.7/site-packages/sklearn/utils/validation.py:63: DataConversionWarning: A column-vector y was passed when a 1d array was expected. Please change the shape of y to (n_samples, ), for example using ravel().\n",
      "  return f(*args, **kwargs)\n"
     ]
    },
    {
     "data": {
      "text/plain": [
       "0.6550335570469799"
      ]
     },
     "execution_count": 16,
     "metadata": {},
     "output_type": "execute_result"
    }
   ],
   "source": [
    "QDA = QuadraticDiscriminantAnalysis()\n",
    "QDA.fit(X_train, Y_train)\n",
    "\n",
    "y_pred_QDA = QDA.predict(X_test).tolist()\n",
    "\n",
    "confusion_QDA = confusion_matrix(Y_test, y_pred_QDA, labels = [0,1,2,3])\n",
    "\n",
    "sum_confusion_QDA = []\n",
    "\n",
    "for k in range(0, 3):\n",
    "  sum_confusion_QDA.append(sum(confusion_QDA.tolist()[k]))\n",
    "accuracy_QDA = (confusion_QDA[0][0] + confusion_QDA[1][1] + confusion_QDA[2][2] + confusion_QDA[3][3])/sum(sum_confusion_QDA)\n",
    "accuracy_QDA"
   ]
  },
  {
   "cell_type": "markdown",
   "metadata": {
    "papermill": {
     "duration": 0.042388,
     "end_time": "2021-02-27T19:28:05.963746",
     "exception": false,
     "start_time": "2021-02-27T19:28:05.921358",
     "status": "completed"
    },
    "tags": []
   },
   "source": [
    "Vemos con el Accuracy de QuadraticDiscriminantAnalysis es casi el mismo que el LinearDiscriminantAnalysis. Pero lo supera ligeramente. Ahora vamos a considerar otro modelo"
   ]
  },
  {
   "cell_type": "code",
   "execution_count": 17,
   "metadata": {
    "execution": {
     "iopub.execute_input": "2021-02-27T19:28:06.058566Z",
     "iopub.status.busy": "2021-02-27T19:28:06.057832Z",
     "iopub.status.idle": "2021-02-27T19:28:06.179496Z",
     "shell.execute_reply": "2021-02-27T19:28:06.178153Z"
    },
    "papermill": {
     "duration": 0.173105,
     "end_time": "2021-02-27T19:28:06.179723",
     "exception": false,
     "start_time": "2021-02-27T19:28:06.006618",
     "status": "completed"
    },
    "tags": []
   },
   "outputs": [
    {
     "name": "stderr",
     "output_type": "stream",
     "text": [
      "/opt/conda/lib/python3.7/site-packages/sklearn/neighbors/_classification.py:179: DataConversionWarning: A column-vector y was passed when a 1d array was expected. Please change the shape of y to (n_samples,), for example using ravel().\n",
      "  return self._fit(X, y)\n"
     ]
    },
    {
     "data": {
      "text/plain": [
       "0.6550335570469799"
      ]
     },
     "execution_count": 17,
     "metadata": {},
     "output_type": "execute_result"
    }
   ],
   "source": [
    "KNN = KNeighborsClassifier(n_neighbors = 15)\n",
    "KNN.fit(X_train, Y_train)\n",
    "\n",
    "y_pred_KNN = KNN.predict(X_test)\n",
    "confusion_KNN = confusion_matrix(Y_test, y_pred_KNN, labels = [0,1,2,3])\n",
    "\n",
    "sum_confusion_KNN = []\n",
    "\n",
    "for i in range(0, 3):\n",
    "  sum_confusion_KNN.append(sum(confusion_KNN.tolist()[i]))\n",
    "accuracy_KNN = (confusion_KNN[0][0] + confusion_KNN[1][1] + confusion_KNN[2][2] + confusion_KNN[3][3])/sum(sum_confusion_KNN)\n",
    "accuracy_KNN"
   ]
  },
  {
   "cell_type": "markdown",
   "metadata": {
    "papermill": {
     "duration": 0.044207,
     "end_time": "2021-02-27T19:28:06.268496",
     "exception": false,
     "start_time": "2021-02-27T19:28:06.224289",
     "status": "completed"
    },
    "tags": []
   },
   "source": [
    "Vemos que con un gran numero de observaciones cercanas elegidas como parametro para este modelo obtenemos un desempeño mas pobre que los dos modelos antes mencionados. Lo que vamos a hacer es realizar un grafico para los distintos acurracys para distintos valores de n_neighbors elegidos"
   ]
  },
  {
   "cell_type": "code",
   "execution_count": 18,
   "metadata": {
    "execution": {
     "iopub.execute_input": "2021-02-27T19:28:06.367228Z",
     "iopub.status.busy": "2021-02-27T19:28:06.366514Z",
     "iopub.status.idle": "2021-02-27T19:28:08.632510Z",
     "shell.execute_reply": "2021-02-27T19:28:08.631795Z"
    },
    "papermill": {
     "duration": 2.319589,
     "end_time": "2021-02-27T19:28:08.632700",
     "exception": false,
     "start_time": "2021-02-27T19:28:06.313111",
     "status": "completed"
    },
    "tags": []
   },
   "outputs": [
    {
     "name": "stderr",
     "output_type": "stream",
     "text": [
      "/opt/conda/lib/python3.7/site-packages/sklearn/neighbors/_classification.py:179: DataConversionWarning: A column-vector y was passed when a 1d array was expected. Please change the shape of y to (n_samples,), for example using ravel().\n",
      "  return self._fit(X, y)\n",
      "/opt/conda/lib/python3.7/site-packages/sklearn/neighbors/_classification.py:179: DataConversionWarning: A column-vector y was passed when a 1d array was expected. Please change the shape of y to (n_samples,), for example using ravel().\n",
      "  return self._fit(X, y)\n",
      "/opt/conda/lib/python3.7/site-packages/sklearn/neighbors/_classification.py:179: DataConversionWarning: A column-vector y was passed when a 1d array was expected. Please change the shape of y to (n_samples,), for example using ravel().\n",
      "  return self._fit(X, y)\n",
      "/opt/conda/lib/python3.7/site-packages/sklearn/neighbors/_classification.py:179: DataConversionWarning: A column-vector y was passed when a 1d array was expected. Please change the shape of y to (n_samples,), for example using ravel().\n",
      "  return self._fit(X, y)\n",
      "/opt/conda/lib/python3.7/site-packages/sklearn/neighbors/_classification.py:179: DataConversionWarning: A column-vector y was passed when a 1d array was expected. Please change the shape of y to (n_samples,), for example using ravel().\n",
      "  return self._fit(X, y)\n",
      "/opt/conda/lib/python3.7/site-packages/sklearn/neighbors/_classification.py:179: DataConversionWarning: A column-vector y was passed when a 1d array was expected. Please change the shape of y to (n_samples,), for example using ravel().\n",
      "  return self._fit(X, y)\n",
      "/opt/conda/lib/python3.7/site-packages/sklearn/neighbors/_classification.py:179: DataConversionWarning: A column-vector y was passed when a 1d array was expected. Please change the shape of y to (n_samples,), for example using ravel().\n",
      "  return self._fit(X, y)\n",
      "/opt/conda/lib/python3.7/site-packages/sklearn/neighbors/_classification.py:179: DataConversionWarning: A column-vector y was passed when a 1d array was expected. Please change the shape of y to (n_samples,), for example using ravel().\n",
      "  return self._fit(X, y)\n",
      "/opt/conda/lib/python3.7/site-packages/sklearn/neighbors/_classification.py:179: DataConversionWarning: A column-vector y was passed when a 1d array was expected. Please change the shape of y to (n_samples,), for example using ravel().\n",
      "  return self._fit(X, y)\n",
      "/opt/conda/lib/python3.7/site-packages/sklearn/neighbors/_classification.py:179: DataConversionWarning: A column-vector y was passed when a 1d array was expected. Please change the shape of y to (n_samples,), for example using ravel().\n",
      "  return self._fit(X, y)\n",
      "/opt/conda/lib/python3.7/site-packages/sklearn/neighbors/_classification.py:179: DataConversionWarning: A column-vector y was passed when a 1d array was expected. Please change the shape of y to (n_samples,), for example using ravel().\n",
      "  return self._fit(X, y)\n",
      "/opt/conda/lib/python3.7/site-packages/sklearn/neighbors/_classification.py:179: DataConversionWarning: A column-vector y was passed when a 1d array was expected. Please change the shape of y to (n_samples,), for example using ravel().\n",
      "  return self._fit(X, y)\n",
      "/opt/conda/lib/python3.7/site-packages/sklearn/neighbors/_classification.py:179: DataConversionWarning: A column-vector y was passed when a 1d array was expected. Please change the shape of y to (n_samples,), for example using ravel().\n",
      "  return self._fit(X, y)\n",
      "/opt/conda/lib/python3.7/site-packages/sklearn/neighbors/_classification.py:179: DataConversionWarning: A column-vector y was passed when a 1d array was expected. Please change the shape of y to (n_samples,), for example using ravel().\n",
      "  return self._fit(X, y)\n",
      "/opt/conda/lib/python3.7/site-packages/sklearn/neighbors/_classification.py:179: DataConversionWarning: A column-vector y was passed when a 1d array was expected. Please change the shape of y to (n_samples,), for example using ravel().\n",
      "  return self._fit(X, y)\n",
      "/opt/conda/lib/python3.7/site-packages/sklearn/neighbors/_classification.py:179: DataConversionWarning: A column-vector y was passed when a 1d array was expected. Please change the shape of y to (n_samples,), for example using ravel().\n",
      "  return self._fit(X, y)\n",
      "/opt/conda/lib/python3.7/site-packages/sklearn/neighbors/_classification.py:179: DataConversionWarning: A column-vector y was passed when a 1d array was expected. Please change the shape of y to (n_samples,), for example using ravel().\n",
      "  return self._fit(X, y)\n",
      "/opt/conda/lib/python3.7/site-packages/sklearn/neighbors/_classification.py:179: DataConversionWarning: A column-vector y was passed when a 1d array was expected. Please change the shape of y to (n_samples,), for example using ravel().\n",
      "  return self._fit(X, y)\n",
      "/opt/conda/lib/python3.7/site-packages/sklearn/neighbors/_classification.py:179: DataConversionWarning: A column-vector y was passed when a 1d array was expected. Please change the shape of y to (n_samples,), for example using ravel().\n",
      "  return self._fit(X, y)\n",
      "/opt/conda/lib/python3.7/site-packages/sklearn/neighbors/_classification.py:179: DataConversionWarning: A column-vector y was passed when a 1d array was expected. Please change the shape of y to (n_samples,), for example using ravel().\n",
      "  return self._fit(X, y)\n"
     ]
    },
    {
     "data": {
      "text/plain": [
       "Text(0.5, 0, 'n_neighbors')"
      ]
     },
     "execution_count": 18,
     "metadata": {},
     "output_type": "execute_result"
    },
    {
     "data": {
      "image/png": "[encoded data removed]",
      "text/plain": [
       "<Figure size 432x288 with 1 Axes>"
      ]
     },
     "metadata": {
      "needs_background": "light"
     },
     "output_type": "display_data"
    }
   ],
   "source": [
    "accuracy_list_KNN = []\n",
    "for i in range(1, 21):\n",
    "  KNN = KNeighborsClassifier(n_neighbors = i)\n",
    "  KNN.fit(X_train, Y_train)\n",
    "\n",
    "  y_pred_KNN = KNN.predict(X_test)\n",
    "  confusion_KNN = confusion_matrix(Y_test, y_pred_KNN, labels = [0,1,2,3])\n",
    "\n",
    "  sum_confusion_KNN = []\n",
    "\n",
    "  for i in range(0, 3):\n",
    "    sum_confusion_KNN.append(sum(confusion_KNN.tolist()[i]))\n",
    "  accuracy_KNN = (confusion_KNN[0][0] + confusion_KNN[1][1] + confusion_KNN[2][2] + confusion_KNN[3][3])/sum(sum_confusion_KNN)\n",
    "  accuracy_list_KNN.append(accuracy_KNN)\n",
    "len(accuracy_list_KNN)\n",
    "\n",
    "list(np.linspace(1, 20, 20))\n",
    "\n",
    "plt.plot(list(np.linspace(1, 20, 20)), accuracy_list_KNN)\n",
    "plt.ylabel(\"Accuracy\")\n",
    "plt.xlabel(\"n_neighbors\")"
   ]
  },
  {
   "cell_type": "markdown",
   "metadata": {
    "papermill": {
     "duration": 0.048077,
     "end_time": "2021-02-27T19:28:08.730857",
     "exception": false,
     "start_time": "2021-02-27T19:28:08.682780",
     "status": "completed"
    },
    "tags": []
   },
   "source": [
    "Vemos como un gran numeros de observaciones cercanas tienden a mejorar la prediccion pero esto tendera a tener mayor sesgo. Por lo tanto descartaremos este modelo"
   ]
  },
  {
   "cell_type": "code",
   "execution_count": 19,
   "metadata": {
    "execution": {
     "iopub.execute_input": "2021-02-27T19:28:08.836974Z",
     "iopub.status.busy": "2021-02-27T19:28:08.836208Z",
     "iopub.status.idle": "2021-02-27T19:28:08.857597Z",
     "shell.execute_reply": "2021-02-27T19:28:08.856904Z"
    },
    "papermill": {
     "duration": 0.077434,
     "end_time": "2021-02-27T19:28:08.857763",
     "exception": false,
     "start_time": "2021-02-27T19:28:08.780329",
     "status": "completed"
    },
    "tags": []
   },
   "outputs": [
    {
     "data": {
      "text/plain": [
       "0.676510067114094"
      ]
     },
     "execution_count": 19,
     "metadata": {},
     "output_type": "execute_result"
    }
   ],
   "source": [
    "TDC = DecisionTreeClassifier(max_depth = 7)\n",
    "\n",
    "TDC.fit(X_train, Y_train)\n",
    "y_pred_TDC = TDC.predict(X_test)\n",
    "\n",
    "confusion_TDC = confusion_matrix(Y_test, y_pred_TDC)\n",
    "sum_confusion_TDC = []\n",
    "\n",
    "for i in range(0, 3):\n",
    "  sum_confusion_TDC.append(sum(confusion_TDC.tolist()[i]))\n",
    "accuracy_TDC = (confusion_TDC[0][0] + confusion_TDC[1][1] + confusion_TDC[2][2] + confusion_TDC[3][3])/sum(sum_confusion_TDC)\n",
    "accuracy_TDC"
   ]
  },
  {
   "cell_type": "markdown",
   "metadata": {
    "papermill": {
     "duration": 0.04834,
     "end_time": "2021-02-27T19:28:08.954895",
     "exception": false,
     "start_time": "2021-02-27T19:28:08.906555",
     "status": "completed"
    },
    "tags": []
   },
   "source": [
    "Vemos como conseguimos un nivel de prediccion bastante decente con este arbol de clasificacion. De todas formas supera en pocos puntos porcentuales a los otros modelos"
   ]
  },
  {
   "cell_type": "code",
   "execution_count": 20,
   "metadata": {
    "execution": {
     "iopub.execute_input": "2021-02-27T19:28:09.063082Z",
     "iopub.status.busy": "2021-02-27T19:28:09.062232Z",
     "iopub.status.idle": "2021-02-27T19:28:09.248162Z",
     "shell.execute_reply": "2021-02-27T19:28:09.246592Z"
    },
    "papermill": {
     "duration": 0.24416,
     "end_time": "2021-02-27T19:28:09.248356",
     "exception": false,
     "start_time": "2021-02-27T19:28:09.004196",
     "status": "completed"
    },
    "tags": []
   },
   "outputs": [
    {
     "data": {
      "text/plain": [
       "<AxesSubplot:>"
      ]
     },
     "execution_count": 20,
     "metadata": {},
     "output_type": "execute_result"
    },
    {
     "data": {
      "image/png": "[encoded data removed]",
      "text/plain": [
       "<Figure size 432x288 with 1 Axes>"
      ]
     },
     "metadata": {
      "needs_background": "light"
     },
     "output_type": "display_data"
    }
   ],
   "source": [
    "Importancia = pd.DataFrame(data = {\"Importancias\": TDC.feature_importances_.tolist()}, index = list(data.columns[1:10]))\n",
    "Importancia.sort_values(\"Importancias\", axis = 0, ascending = True).plot(kind = \"barh\", color = \"r\")"
   ]
  },
  {
   "cell_type": "code",
   "execution_count": 21,
   "metadata": {
    "execution": {
     "iopub.execute_input": "2021-02-27T19:28:09.357111Z",
     "iopub.status.busy": "2021-02-27T19:28:09.356162Z",
     "iopub.status.idle": "2021-02-27T19:28:10.140967Z",
     "shell.execute_reply": "2021-02-27T19:28:10.140264Z"
    },
    "papermill": {
     "duration": 0.842927,
     "end_time": "2021-02-27T19:28:10.141121",
     "exception": false,
     "start_time": "2021-02-27T19:28:09.298194",
     "status": "completed"
    },
    "tags": []
   },
   "outputs": [
    {
     "name": "stderr",
     "output_type": "stream",
     "text": [
      "/opt/conda/lib/python3.7/site-packages/ipykernel_launcher.py:3: DataConversionWarning: A column-vector y was passed when a 1d array was expected. Please change the shape of y to (n_samples,), for example using ravel().\n",
      "  This is separate from the ipykernel package so we can avoid doing imports until\n"
     ]
    },
    {
     "data": {
      "text/plain": [
       "0.6530201342281879"
      ]
     },
     "execution_count": 21,
     "metadata": {},
     "output_type": "execute_result"
    }
   ],
   "source": [
    "RF = RandomForestClassifier(max_features = int(np.sqrt(9)), random_state = 1)\n",
    "\n",
    "RF.fit(X_train, Y_train)\n",
    "y_pred_RF = RF.predict(X_test)\n",
    "confusion_RF = confusion_matrix(Y_test, y_pred_RF)\n",
    "sum_confusion_RF = []\n",
    "\n",
    "for i in range(0, 3):\n",
    "  sum_confusion_RF.append(sum(confusion_RF.tolist()[i]))\n",
    "accuracy_RF = (confusion_RF[0][0] + confusion_RF[1][1] + confusion_RF[2][2] + confusion_RF[3][3])/sum(sum_confusion_RF)\n",
    "accuracy_RF"
   ]
  },
  {
   "cell_type": "markdown",
   "metadata": {
    "papermill": {
     "duration": 0.051793,
     "end_time": "2021-02-27T19:28:10.244003",
     "exception": false,
     "start_time": "2021-02-27T19:28:10.192210",
     "status": "completed"
    },
    "tags": []
   },
   "source": [
    "Tuvimos un bajo nivel de prediccion con random forest teniendo en cuenta los otros modelos. Pero ahora vamos a probar con Boosting"
   ]
  },
  {
   "cell_type": "code",
   "execution_count": 22,
   "metadata": {
    "execution": {
     "iopub.execute_input": "2021-02-27T19:28:10.353084Z",
     "iopub.status.busy": "2021-02-27T19:28:10.352026Z",
     "iopub.status.idle": "2021-02-27T19:28:29.997866Z",
     "shell.execute_reply": "2021-02-27T19:28:29.997166Z"
    },
    "papermill": {
     "duration": 19.703692,
     "end_time": "2021-02-27T19:28:29.998038",
     "exception": false,
     "start_time": "2021-02-27T19:28:10.294346",
     "status": "completed"
    },
    "tags": []
   },
   "outputs": [
    {
     "name": "stderr",
     "output_type": "stream",
     "text": [
      "/opt/conda/lib/python3.7/site-packages/sklearn/utils/validation.py:63: DataConversionWarning: A column-vector y was passed when a 1d array was expected. Please change the shape of y to (n_samples, ), for example using ravel().\n",
      "  return f(*args, **kwargs)\n"
     ]
    },
    {
     "data": {
      "text/plain": [
       "0.7221476510067114"
      ]
     },
     "execution_count": 22,
     "metadata": {},
     "output_type": "execute_result"
    }
   ],
   "source": [
    "Boosting = GradientBoostingClassifier(n_estimators = 1000, learning_rate = 0.01)\n",
    "Boosting.fit(X_train, Y_train)\n",
    "\n",
    "y_pred_Boosting = Boosting.predict(X_test)\n",
    "confusion_Boosting = confusion_matrix(Y_test, y_pred_Boosting)\n",
    "\n",
    "sum_confusion_Boosting = []\n",
    "\n",
    "for i in range(0, 3):\n",
    "  sum_confusion_Boosting.append(sum(confusion_Boosting.tolist()[i]))\n",
    "accuracy_Boosting = (confusion_Boosting[0][0] + confusion_Boosting[1][1] + confusion_Boosting[2][2] + confusion_Boosting[3][3])/sum(sum_confusion_Boosting)\n",
    "accuracy_Boosting"
   ]
  },
  {
   "cell_type": "markdown",
   "metadata": {
    "papermill": {
     "duration": 0.051743,
     "end_time": "2021-02-27T19:28:30.100629",
     "exception": false,
     "start_time": "2021-02-27T19:28:30.048886",
     "status": "completed"
    },
    "tags": []
   },
   "source": [
    "Vemos a priori que Boosting es el modelo con mejor nivel de prediccion"
   ]
  },
  {
   "cell_type": "code",
   "execution_count": 23,
   "metadata": {
    "execution": {
     "iopub.execute_input": "2021-02-27T19:28:30.213508Z",
     "iopub.status.busy": "2021-02-27T19:28:30.212721Z",
     "iopub.status.idle": "2021-02-27T19:28:30.450266Z",
     "shell.execute_reply": "2021-02-27T19:28:30.449653Z"
    },
    "papermill": {
     "duration": 0.29872,
     "end_time": "2021-02-27T19:28:30.450411",
     "exception": false,
     "start_time": "2021-02-27T19:28:30.151691",
     "status": "completed"
    },
    "tags": []
   },
   "outputs": [
    {
     "data": {
      "text/plain": [
       "<AxesSubplot:>"
      ]
     },
     "execution_count": 23,
     "metadata": {},
     "output_type": "execute_result"
    },
    {
     "data": {
      "image/png": "[encoded data removed]",
      "text/plain": [
       "<Figure size 432x288 with 1 Axes>"
      ]
     },
     "metadata": {
      "needs_background": "light"
     },
     "output_type": "display_data"
    }
   ],
   "source": [
    "Importancia_Boosting = pd.DataFrame(data = {\"Importancias\": Boosting.feature_importances_.tolist()}, index = list(data.columns[1:10]))\n",
    "Importancia_Boosting.sort_values(\"Importancias\", axis = 0, ascending = True).plot(kind = \"barh\", color = \"r\")"
   ]
  },
  {
   "cell_type": "markdown",
   "metadata": {
    "papermill": {
     "duration": 0.051735,
     "end_time": "2021-02-27T19:28:30.555049",
     "exception": false,
     "start_time": "2021-02-27T19:28:30.503314",
     "status": "completed"
    },
    "tags": []
   },
   "source": [
    "Como el nivel de prediccion puede variar segun el tamaño de entrenamiento y prueba, vamos a entrenar los modelos anteriores con distintos tamaño de entrenamiento y prueba y vamos a calcular el acurracy para cada tamaño en cada modelo. Vamos a elegir el modelo que tenga mayor nivel de accuracy para este conjunto de datos"
   ]
  },
  {
   "cell_type": "code",
   "execution_count": 24,
   "metadata": {
    "execution": {
     "iopub.execute_input": "2021-02-27T19:28:30.679284Z",
     "iopub.status.busy": "2021-02-27T19:28:30.674117Z",
     "iopub.status.idle": "2021-02-27T19:30:13.101780Z",
     "shell.execute_reply": "2021-02-27T19:30:13.100880Z"
    },
    "papermill": {
     "duration": 102.495003,
     "end_time": "2021-02-27T19:30:13.102347",
     "exception": false,
     "start_time": "2021-02-27T19:28:30.607344",
     "status": "completed"
    },
    "tags": []
   },
   "outputs": [
    {
     "name": "stderr",
     "output_type": "stream",
     "text": [
      "/opt/conda/lib/python3.7/site-packages/sklearn/utils/validation.py:63: DataConversionWarning: A column-vector y was passed when a 1d array was expected. Please change the shape of y to (n_samples, ), for example using ravel().\n",
      "  return f(*args, **kwargs)\n",
      "/opt/conda/lib/python3.7/site-packages/sklearn/utils/validation.py:63: DataConversionWarning: A column-vector y was passed when a 1d array was expected. Please change the shape of y to (n_samples, ), for example using ravel().\n",
      "  return f(*args, **kwargs)\n",
      "/opt/conda/lib/python3.7/site-packages/sklearn/utils/validation.py:63: DataConversionWarning: A column-vector y was passed when a 1d array was expected. Please change the shape of y to (n_samples, ), for example using ravel().\n",
      "  return f(*args, **kwargs)\n",
      "/opt/conda/lib/python3.7/site-packages/sklearn/utils/validation.py:63: DataConversionWarning: A column-vector y was passed when a 1d array was expected. Please change the shape of y to (n_samples, ), for example using ravel().\n",
      "  return f(*args, **kwargs)\n",
      "/opt/conda/lib/python3.7/site-packages/sklearn/utils/validation.py:63: DataConversionWarning: A column-vector y was passed when a 1d array was expected. Please change the shape of y to (n_samples, ), for example using ravel().\n",
      "  return f(*args, **kwargs)\n",
      "/opt/conda/lib/python3.7/site-packages/sklearn/utils/validation.py:63: DataConversionWarning: A column-vector y was passed when a 1d array was expected. Please change the shape of y to (n_samples, ), for example using ravel().\n",
      "  return f(*args, **kwargs)\n",
      "/opt/conda/lib/python3.7/site-packages/sklearn/utils/validation.py:63: DataConversionWarning: A column-vector y was passed when a 1d array was expected. Please change the shape of y to (n_samples, ), for example using ravel().\n",
      "  return f(*args, **kwargs)\n",
      "/opt/conda/lib/python3.7/site-packages/sklearn/utils/validation.py:63: DataConversionWarning: A column-vector y was passed when a 1d array was expected. Please change the shape of y to (n_samples, ), for example using ravel().\n",
      "  return f(*args, **kwargs)\n",
      "/opt/conda/lib/python3.7/site-packages/sklearn/utils/validation.py:63: DataConversionWarning: A column-vector y was passed when a 1d array was expected. Please change the shape of y to (n_samples, ), for example using ravel().\n",
      "  return f(*args, **kwargs)\n",
      "/opt/conda/lib/python3.7/site-packages/sklearn/utils/validation.py:63: DataConversionWarning: A column-vector y was passed when a 1d array was expected. Please change the shape of y to (n_samples, ), for example using ravel().\n",
      "  return f(*args, **kwargs)\n",
      "/opt/conda/lib/python3.7/site-packages/sklearn/utils/validation.py:63: DataConversionWarning: A column-vector y was passed when a 1d array was expected. Please change the shape of y to (n_samples, ), for example using ravel().\n",
      "  return f(*args, **kwargs)\n",
      "/opt/conda/lib/python3.7/site-packages/sklearn/utils/validation.py:63: DataConversionWarning: A column-vector y was passed when a 1d array was expected. Please change the shape of y to (n_samples, ), for example using ravel().\n",
      "  return f(*args, **kwargs)\n",
      "/opt/conda/lib/python3.7/site-packages/sklearn/utils/validation.py:63: DataConversionWarning: A column-vector y was passed when a 1d array was expected. Please change the shape of y to (n_samples, ), for example using ravel().\n",
      "  return f(*args, **kwargs)\n",
      "/opt/conda/lib/python3.7/site-packages/sklearn/utils/validation.py:63: DataConversionWarning: A column-vector y was passed when a 1d array was expected. Please change the shape of y to (n_samples, ), for example using ravel().\n",
      "  return f(*args, **kwargs)\n",
      "/opt/conda/lib/python3.7/site-packages/sklearn/utils/validation.py:63: DataConversionWarning: A column-vector y was passed when a 1d array was expected. Please change the shape of y to (n_samples, ), for example using ravel().\n",
      "  return f(*args, **kwargs)\n",
      "/opt/conda/lib/python3.7/site-packages/sklearn/utils/validation.py:63: DataConversionWarning: A column-vector y was passed when a 1d array was expected. Please change the shape of y to (n_samples, ), for example using ravel().\n",
      "  return f(*args, **kwargs)\n",
      "/opt/conda/lib/python3.7/site-packages/sklearn/utils/validation.py:63: DataConversionWarning: A column-vector y was passed when a 1d array was expected. Please change the shape of y to (n_samples, ), for example using ravel().\n",
      "  return f(*args, **kwargs)\n",
      "/opt/conda/lib/python3.7/site-packages/sklearn/utils/validation.py:63: DataConversionWarning: A column-vector y was passed when a 1d array was expected. Please change the shape of y to (n_samples, ), for example using ravel().\n",
      "  return f(*args, **kwargs)\n",
      "/opt/conda/lib/python3.7/site-packages/sklearn/utils/validation.py:63: DataConversionWarning: A column-vector y was passed when a 1d array was expected. Please change the shape of y to (n_samples, ), for example using ravel().\n",
      "  return f(*args, **kwargs)\n",
      "/opt/conda/lib/python3.7/site-packages/sklearn/utils/validation.py:63: DataConversionWarning: A column-vector y was passed when a 1d array was expected. Please change the shape of y to (n_samples, ), for example using ravel().\n",
      "  return f(*args, **kwargs)\n",
      "/opt/conda/lib/python3.7/site-packages/ipykernel_launcher.py:61: DataConversionWarning: A column-vector y was passed when a 1d array was expected. Please change the shape of y to (n_samples,), for example using ravel().\n",
      "/opt/conda/lib/python3.7/site-packages/ipykernel_launcher.py:61: DataConversionWarning: A column-vector y was passed when a 1d array was expected. Please change the shape of y to (n_samples,), for example using ravel().\n",
      "/opt/conda/lib/python3.7/site-packages/ipykernel_launcher.py:61: DataConversionWarning: A column-vector y was passed when a 1d array was expected. Please change the shape of y to (n_samples,), for example using ravel().\n",
      "/opt/conda/lib/python3.7/site-packages/ipykernel_launcher.py:61: DataConversionWarning: A column-vector y was passed when a 1d array was expected. Please change the shape of y to (n_samples,), for example using ravel().\n",
      "/opt/conda/lib/python3.7/site-packages/ipykernel_launcher.py:61: DataConversionWarning: A column-vector y was passed when a 1d array was expected. Please change the shape of y to (n_samples,), for example using ravel().\n",
      "/opt/conda/lib/python3.7/site-packages/ipykernel_launcher.py:61: DataConversionWarning: A column-vector y was passed when a 1d array was expected. Please change the shape of y to (n_samples,), for example using ravel().\n",
      "/opt/conda/lib/python3.7/site-packages/ipykernel_launcher.py:61: DataConversionWarning: A column-vector y was passed when a 1d array was expected. Please change the shape of y to (n_samples,), for example using ravel().\n",
      "/opt/conda/lib/python3.7/site-packages/ipykernel_launcher.py:61: DataConversionWarning: A column-vector y was passed when a 1d array was expected. Please change the shape of y to (n_samples,), for example using ravel().\n",
      "/opt/conda/lib/python3.7/site-packages/ipykernel_launcher.py:61: DataConversionWarning: A column-vector y was passed when a 1d array was expected. Please change the shape of y to (n_samples,), for example using ravel().\n",
      "/opt/conda/lib/python3.7/site-packages/ipykernel_launcher.py:61: DataConversionWarning: A column-vector y was passed when a 1d array was expected. Please change the shape of y to (n_samples,), for example using ravel().\n",
      "/opt/conda/lib/python3.7/site-packages/sklearn/utils/validation.py:63: DataConversionWarning: A column-vector y was passed when a 1d array was expected. Please change the shape of y to (n_samples, ), for example using ravel().\n",
      "  return f(*args, **kwargs)\n",
      "/opt/conda/lib/python3.7/site-packages/sklearn/utils/validation.py:63: DataConversionWarning: A column-vector y was passed when a 1d array was expected. Please change the shape of y to (n_samples, ), for example using ravel().\n",
      "  return f(*args, **kwargs)\n",
      "/opt/conda/lib/python3.7/site-packages/sklearn/utils/validation.py:63: DataConversionWarning: A column-vector y was passed when a 1d array was expected. Please change the shape of y to (n_samples, ), for example using ravel().\n",
      "  return f(*args, **kwargs)\n",
      "/opt/conda/lib/python3.7/site-packages/sklearn/utils/validation.py:63: DataConversionWarning: A column-vector y was passed when a 1d array was expected. Please change the shape of y to (n_samples, ), for example using ravel().\n",
      "  return f(*args, **kwargs)\n",
      "/opt/conda/lib/python3.7/site-packages/sklearn/utils/validation.py:63: DataConversionWarning: A column-vector y was passed when a 1d array was expected. Please change the shape of y to (n_samples, ), for example using ravel().\n",
      "  return f(*args, **kwargs)\n",
      "/opt/conda/lib/python3.7/site-packages/sklearn/utils/validation.py:63: DataConversionWarning: A column-vector y was passed when a 1d array was expected. Please change the shape of y to (n_samples, ), for example using ravel().\n",
      "  return f(*args, **kwargs)\n",
      "/opt/conda/lib/python3.7/site-packages/sklearn/utils/validation.py:63: DataConversionWarning: A column-vector y was passed when a 1d array was expected. Please change the shape of y to (n_samples, ), for example using ravel().\n",
      "  return f(*args, **kwargs)\n",
      "/opt/conda/lib/python3.7/site-packages/sklearn/utils/validation.py:63: DataConversionWarning: A column-vector y was passed when a 1d array was expected. Please change the shape of y to (n_samples, ), for example using ravel().\n",
      "  return f(*args, **kwargs)\n",
      "/opt/conda/lib/python3.7/site-packages/sklearn/utils/validation.py:63: DataConversionWarning: A column-vector y was passed when a 1d array was expected. Please change the shape of y to (n_samples, ), for example using ravel().\n",
      "  return f(*args, **kwargs)\n",
      "/opt/conda/lib/python3.7/site-packages/sklearn/utils/validation.py:63: DataConversionWarning: A column-vector y was passed when a 1d array was expected. Please change the shape of y to (n_samples, ), for example using ravel().\n",
      "  return f(*args, **kwargs)\n"
     ]
    }
   ],
   "source": [
    "size = list(np.linspace(0.5, 0.95, num = 10))\n",
    "\n",
    "LDA_accuracy = []\n",
    "QDA_accuracy = []\n",
    "TDC_accuracy = []\n",
    "RF_accuracy = []\n",
    "BS_accuracy = []\n",
    "\n",
    "for l in size:\n",
    "  LDA = LinearDiscriminantAnalysis()\n",
    "  X_train, X_test, Y_train, Y_test = train_test_split(X, Y, test_size = l, )\n",
    "  LDA.fit(X_train, Y_train)\n",
    "\n",
    "  Y_test = Y_test.T.tolist()[0]\n",
    "  y_pred = LDA.predict(X_test).tolist()\n",
    "\n",
    "  confusion = confusion_matrix(Y_test, y_pred, labels = [0, 1, 2, 3])\n",
    "  confusion\n",
    "\n",
    "  sum_confusion = []\n",
    "  for k in range(0, 3):\n",
    "    sum_confusion.append(sum(confusion.tolist()[k]))\n",
    "\n",
    "  accuracy = (confusion[0][0] + confusion[1][1] + confusion[2][2] + confusion[3][3])/sum(sum_confusion)\n",
    "  LDA_accuracy.append(accuracy)\n",
    "\n",
    "for q in size:\n",
    "  X_train, X_test, Y_train, Y_test = train_test_split(X, Y, test_size = q, )\n",
    "  QDA = QuadraticDiscriminantAnalysis()\n",
    "  QDA.fit(X_train, Y_train)\n",
    "\n",
    "  y_pred_QDA = QDA.predict(X_test).tolist()\n",
    "\n",
    "  confusion_QDA = confusion_matrix(Y_test, y_pred_QDA, labels = [0,1,2,3])\n",
    "\n",
    "  sum_confusion_QDA = []\n",
    "\n",
    "  for k in range(0, 3):\n",
    "    sum_confusion_QDA.append(sum(confusion_QDA.tolist()[k]))\n",
    "  accuracy_QDA = (confusion_QDA[0][0] + confusion_QDA[1][1] + confusion_QDA[2][2] + confusion_QDA[3][3])/sum(sum_confusion_QDA)\n",
    "  QDA_accuracy.append(accuracy_QDA)\n",
    "\n",
    "for t in size:\n",
    "  X_train, X_test, Y_train, Y_test = train_test_split(X, Y, test_size = t, )\n",
    "  TDC = DecisionTreeClassifier(max_depth = 7)\n",
    "\n",
    "  TDC.fit(X_train, Y_train)\n",
    "  y_pred_TDC = TDC.predict(X_test)\n",
    "\n",
    "  confusion_TDC = confusion_matrix(Y_test, y_pred_TDC)\n",
    "  sum_confusion_TDC = []\n",
    "\n",
    "  for i in range(0, 3):\n",
    "    sum_confusion_TDC.append(sum(confusion_TDC.tolist()[i]))\n",
    "  accuracy_TDC = (confusion_TDC[0][0] + confusion_TDC[1][1] + confusion_TDC[2][2] + confusion_TDC[3][3])/sum(sum_confusion_TDC)\n",
    "  TDC_accuracy.append(accuracy_TDC)\n",
    "\n",
    "for r in size:\n",
    "  X_train, X_test, Y_train, Y_test = train_test_split(X, Y, test_size = r, )\n",
    "  RF = RandomForestClassifier(max_features = int(np.sqrt(9)), random_state = 1)\n",
    "  RF.fit(X_train, Y_train)\n",
    "  y_pred_RF = RF.predict(X_test)\n",
    "  confusion_RF = confusion_matrix(Y_test, y_pred_RF)\n",
    "  sum_confusion_RF = []\n",
    "\n",
    "  for i in range(0, 3):\n",
    "    sum_confusion_RF.append(sum(confusion_RF.tolist()[i]))\n",
    "  accuracy_RF = (confusion_RF[0][0] + confusion_RF[1][1] + confusion_RF[2][2] + confusion_RF[3][3])/sum(sum_confusion_RF)\n",
    "  RF_accuracy.append(accuracy_RF)\n",
    "\n",
    "for b in size:\n",
    "  X_train, X_test, Y_train, Y_test = train_test_split(X, Y, test_size = b, )\n",
    "  Boosting = GradientBoostingClassifier(n_estimators = 1000, learning_rate = 0.01)\n",
    "  Boosting.fit(X_train, Y_train)\n",
    "\n",
    "  y_pred_Boosting = Boosting.predict(X_test)\n",
    "  confusion_Boosting = confusion_matrix(Y_test, y_pred_Boosting)\n",
    "\n",
    "  sum_confusion_Boosting = []\n",
    "\n",
    "  for i in range(0, 3):\n",
    "    sum_confusion_Boosting.append(sum(confusion_Boosting.tolist()[i]))\n",
    "  accuracy_Boosting = (confusion_Boosting[0][0] + confusion_Boosting[1][1] + confusion_Boosting[2][2] + confusion_Boosting[3][3])/sum(sum_confusion_Boosting)\n",
    "  BS_accuracy.append(accuracy_Boosting)"
   ]
  },
  {
   "cell_type": "code",
   "execution_count": 25,
   "metadata": {
    "execution": {
     "iopub.execute_input": "2021-02-27T19:30:13.259914Z",
     "iopub.status.busy": "2021-02-27T19:30:13.254589Z",
     "iopub.status.idle": "2021-02-27T19:30:13.564603Z",
     "shell.execute_reply": "2021-02-27T19:30:13.563644Z"
    },
    "papermill": {
     "duration": 0.401424,
     "end_time": "2021-02-27T19:30:13.564776",
     "exception": false,
     "start_time": "2021-02-27T19:30:13.163352",
     "status": "completed"
    },
    "tags": []
   },
   "outputs": [
    {
     "data": {
      "text/plain": [
       "<AxesSubplot:>"
      ]
     },
     "execution_count": 25,
     "metadata": {},
     "output_type": "execute_result"
    },
    {
     "data": {
      "image/png": "[encoded data removed]",
      "text/plain": [
       "<Figure size 432x288 with 1 Axes>"
      ]
     },
     "metadata": {
      "needs_background": "light"
     },
     "output_type": "display_data"
    }
   ],
   "source": [
    "data_accuracy = pd.DataFrame(data = {\"LDA\": LDA_accuracy, \"QDA\": QDA_accuracy, \"Tree\": TDC_accuracy, \"Random Forest\": RF_accuracy, \"Boosting\": BS_accuracy})\n",
    "\n",
    "data_accuracy.boxplot(column = [\"LDA\", \"QDA\", \"Tree\", \"Random Forest\", \"Boosting\"])"
   ]
  },
  {
   "cell_type": "markdown",
   "metadata": {
    "papermill": {
     "duration": 0.061026,
     "end_time": "2021-02-27T19:30:13.687102",
     "exception": false,
     "start_time": "2021-02-27T19:30:13.626076",
     "status": "completed"
    },
    "tags": []
   },
   "source": [
    "Vemos como Boosting supera a los otros modelos entrenados. Finalmente nos decantamos por este modelo. Vamos a entrenar boosting con todas las obsevaciones para ponerlo en produccion"
   ]
  },
  {
   "cell_type": "markdown",
   "metadata": {
    "papermill": {
     "duration": 0.060703,
     "end_time": "2021-02-27T19:30:13.808729",
     "exception": false,
     "start_time": "2021-02-27T19:30:13.748026",
     "status": "completed"
    },
    "tags": []
   },
   "source": [
    "Podemos ver como Boosting tiene un mejor desempeño que el resto de los otros modelos. Por ello vamos a entrenar Boosting con todas las observaciones para "
   ]
  },
  {
   "cell_type": "code",
   "execution_count": 26,
   "metadata": {
    "execution": {
     "iopub.execute_input": "2021-02-27T19:30:13.938568Z",
     "iopub.status.busy": "2021-02-27T19:30:13.937768Z",
     "iopub.status.idle": "2021-02-27T19:30:40.592822Z",
     "shell.execute_reply": "2021-02-27T19:30:40.593336Z"
    },
    "papermill": {
     "duration": 26.723493,
     "end_time": "2021-02-27T19:30:40.593551",
     "exception": false,
     "start_time": "2021-02-27T19:30:13.870058",
     "status": "completed"
    },
    "tags": []
   },
   "outputs": [
    {
     "name": "stderr",
     "output_type": "stream",
     "text": [
      "/opt/conda/lib/python3.7/site-packages/sklearn/utils/validation.py:63: DataConversionWarning: A column-vector y was passed when a 1d array was expected. Please change the shape of y to (n_samples, ), for example using ravel().\n",
      "  return f(*args, **kwargs)\n"
     ]
    },
    {
     "data": {
      "text/plain": [
       "<AxesSubplot:>"
      ]
     },
     "execution_count": 26,
     "metadata": {},
     "output_type": "execute_result"
    },
    {
     "data": {
      "image/png": "[encoded data removed]",
      "text/plain": [
       "<Figure size 432x288 with 1 Axes>"
      ]
     },
     "metadata": {
      "needs_background": "light"
     },
     "output_type": "display_data"
    }
   ],
   "source": [
    "Boosting_prod = GradientBoostingClassifier(n_estimators = 1000, learning_rate = 0.01)\n",
    "Boosting_prod.fit(X, Y)\n",
    "\n",
    "y_pred = Boosting_prod.predict(X)\n",
    "Importancia_Boosting = pd.DataFrame(data = {\"Importancias\": Boosting_prod.feature_importances_.tolist()}, index = list(data.columns[1:10]))\n",
    "Importancia_Boosting.sort_values(\"Importancias\", axis = 0, ascending = True).plot(kind = \"barh\", color = \"r\")"
   ]
  },
  {
   "cell_type": "markdown",
   "metadata": {
    "papermill": {
     "duration": 0.065087,
     "end_time": "2021-02-27T19:30:40.725387",
     "exception": false,
     "start_time": "2021-02-27T19:30:40.660300",
     "status": "completed"
    },
    "tags": []
   },
   "source": [
    "Aca podemos ver la importancia final de cada caracteristica."
   ]
  },
  {
   "cell_type": "markdown",
   "metadata": {
    "papermill": {
     "duration": 0.066044,
     "end_time": "2021-02-27T19:30:40.854017",
     "exception": false,
     "start_time": "2021-02-27T19:30:40.787973",
     "status": "completed"
    },
    "tags": []
   },
   "source": [
    "Ahora vamos a clasificar el grupo correcto de los nuevos clientes"
   ]
  },
  {
   "cell_type": "code",
   "execution_count": 27,
   "metadata": {
    "execution": {
     "iopub.execute_input": "2021-02-27T19:30:40.998836Z",
     "iopub.status.busy": "2021-02-27T19:30:40.998020Z",
     "iopub.status.idle": "2021-02-27T19:30:41.051550Z",
     "shell.execute_reply": "2021-02-27T19:30:41.052022Z"
    },
    "papermill": {
     "duration": 0.127878,
     "end_time": "2021-02-27T19:30:41.052238",
     "exception": false,
     "start_time": "2021-02-27T19:30:40.924360",
     "status": "completed"
    },
    "tags": []
   },
   "outputs": [
    {
     "data": {
      "text/html": [
       "<div>\n",
       "<style scoped>\n",
       "    .dataframe tbody tr th:only-of-type {\n",
       "        vertical-align: middle;\n",
       "    }\n",
       "\n",
       "    .dataframe tbody tr th {\n",
       "        vertical-align: top;\n",
       "    }\n",
       "\n",
       "    .dataframe thead th {\n",
       "        text-align: right;\n",
       "    }\n",
       "</style>\n",
       "<table border=\"1\" class=\"dataframe\">\n",
       "  <thead>\n",
       "    <tr style=\"text-align: right;\">\n",
       "      <th></th>\n",
       "      <th>ID</th>\n",
       "      <th>Gender</th>\n",
       "      <th>Ever_Married</th>\n",
       "      <th>Age</th>\n",
       "      <th>Graduated</th>\n",
       "      <th>Profession</th>\n",
       "      <th>Work_Experience</th>\n",
       "      <th>Spending_Score</th>\n",
       "      <th>Family_Size</th>\n",
       "      <th>Var_1</th>\n",
       "    </tr>\n",
       "  </thead>\n",
       "  <tbody>\n",
       "    <tr>\n",
       "      <th>0</th>\n",
       "      <td>458989</td>\n",
       "      <td>Female</td>\n",
       "      <td>Yes</td>\n",
       "      <td>36</td>\n",
       "      <td>Yes</td>\n",
       "      <td>Engineer</td>\n",
       "      <td>0.0</td>\n",
       "      <td>Low</td>\n",
       "      <td>1.0</td>\n",
       "      <td>Cat_6</td>\n",
       "    </tr>\n",
       "    <tr>\n",
       "      <th>1</th>\n",
       "      <td>458994</td>\n",
       "      <td>Male</td>\n",
       "      <td>Yes</td>\n",
       "      <td>37</td>\n",
       "      <td>Yes</td>\n",
       "      <td>Healthcare</td>\n",
       "      <td>8.0</td>\n",
       "      <td>Average</td>\n",
       "      <td>4.0</td>\n",
       "      <td>Cat_6</td>\n",
       "    </tr>\n",
       "    <tr>\n",
       "      <th>3</th>\n",
       "      <td>459000</td>\n",
       "      <td>Male</td>\n",
       "      <td>Yes</td>\n",
       "      <td>59</td>\n",
       "      <td>No</td>\n",
       "      <td>Executive</td>\n",
       "      <td>11.0</td>\n",
       "      <td>High</td>\n",
       "      <td>2.0</td>\n",
       "      <td>Cat_6</td>\n",
       "    </tr>\n",
       "    <tr>\n",
       "      <th>5</th>\n",
       "      <td>459003</td>\n",
       "      <td>Male</td>\n",
       "      <td>Yes</td>\n",
       "      <td>47</td>\n",
       "      <td>Yes</td>\n",
       "      <td>Doctor</td>\n",
       "      <td>0.0</td>\n",
       "      <td>High</td>\n",
       "      <td>5.0</td>\n",
       "      <td>Cat_4</td>\n",
       "    </tr>\n",
       "    <tr>\n",
       "      <th>6</th>\n",
       "      <td>459005</td>\n",
       "      <td>Male</td>\n",
       "      <td>Yes</td>\n",
       "      <td>61</td>\n",
       "      <td>Yes</td>\n",
       "      <td>Doctor</td>\n",
       "      <td>5.0</td>\n",
       "      <td>Low</td>\n",
       "      <td>3.0</td>\n",
       "      <td>Cat_6</td>\n",
       "    </tr>\n",
       "    <tr>\n",
       "      <th>...</th>\n",
       "      <td>...</td>\n",
       "      <td>...</td>\n",
       "      <td>...</td>\n",
       "      <td>...</td>\n",
       "      <td>...</td>\n",
       "      <td>...</td>\n",
       "      <td>...</td>\n",
       "      <td>...</td>\n",
       "      <td>...</td>\n",
       "      <td>...</td>\n",
       "    </tr>\n",
       "    <tr>\n",
       "      <th>2621</th>\n",
       "      <td>467950</td>\n",
       "      <td>Female</td>\n",
       "      <td>No</td>\n",
       "      <td>35</td>\n",
       "      <td>Yes</td>\n",
       "      <td>Entertainment</td>\n",
       "      <td>1.0</td>\n",
       "      <td>Low</td>\n",
       "      <td>2.0</td>\n",
       "      <td>Cat_6</td>\n",
       "    </tr>\n",
       "    <tr>\n",
       "      <th>2622</th>\n",
       "      <td>467954</td>\n",
       "      <td>Male</td>\n",
       "      <td>No</td>\n",
       "      <td>29</td>\n",
       "      <td>No</td>\n",
       "      <td>Healthcare</td>\n",
       "      <td>9.0</td>\n",
       "      <td>Low</td>\n",
       "      <td>4.0</td>\n",
       "      <td>Cat_6</td>\n",
       "    </tr>\n",
       "    <tr>\n",
       "      <th>2623</th>\n",
       "      <td>467958</td>\n",
       "      <td>Female</td>\n",
       "      <td>No</td>\n",
       "      <td>35</td>\n",
       "      <td>Yes</td>\n",
       "      <td>Doctor</td>\n",
       "      <td>1.0</td>\n",
       "      <td>Low</td>\n",
       "      <td>1.0</td>\n",
       "      <td>Cat_6</td>\n",
       "    </tr>\n",
       "    <tr>\n",
       "      <th>2625</th>\n",
       "      <td>467961</td>\n",
       "      <td>Male</td>\n",
       "      <td>Yes</td>\n",
       "      <td>47</td>\n",
       "      <td>Yes</td>\n",
       "      <td>Executive</td>\n",
       "      <td>1.0</td>\n",
       "      <td>High</td>\n",
       "      <td>5.0</td>\n",
       "      <td>Cat_4</td>\n",
       "    </tr>\n",
       "    <tr>\n",
       "      <th>2626</th>\n",
       "      <td>467968</td>\n",
       "      <td>Female</td>\n",
       "      <td>No</td>\n",
       "      <td>43</td>\n",
       "      <td>Yes</td>\n",
       "      <td>Healthcare</td>\n",
       "      <td>9.0</td>\n",
       "      <td>Low</td>\n",
       "      <td>3.0</td>\n",
       "      <td>Cat_7</td>\n",
       "    </tr>\n",
       "  </tbody>\n",
       "</table>\n",
       "<p>2154 rows × 10 columns</p>\n",
       "</div>"
      ],
      "text/plain": [
       "          ID  Gender Ever_Married  Age Graduated     Profession  \\\n",
       "0     458989  Female          Yes   36       Yes       Engineer   \n",
       "1     458994    Male          Yes   37       Yes     Healthcare   \n",
       "3     459000    Male          Yes   59        No      Executive   \n",
       "5     459003    Male          Yes   47       Yes         Doctor   \n",
       "6     459005    Male          Yes   61       Yes         Doctor   \n",
       "...      ...     ...          ...  ...       ...            ...   \n",
       "2621  467950  Female           No   35       Yes  Entertainment   \n",
       "2622  467954    Male           No   29        No     Healthcare   \n",
       "2623  467958  Female           No   35       Yes         Doctor   \n",
       "2625  467961    Male          Yes   47       Yes      Executive   \n",
       "2626  467968  Female           No   43       Yes     Healthcare   \n",
       "\n",
       "      Work_Experience Spending_Score  Family_Size  Var_1  \n",
       "0                 0.0            Low          1.0  Cat_6  \n",
       "1                 8.0        Average          4.0  Cat_6  \n",
       "3                11.0           High          2.0  Cat_6  \n",
       "5                 0.0           High          5.0  Cat_4  \n",
       "6                 5.0            Low          3.0  Cat_6  \n",
       "...               ...            ...          ...    ...  \n",
       "2621              1.0            Low          2.0  Cat_6  \n",
       "2622              9.0            Low          4.0  Cat_6  \n",
       "2623              1.0            Low          1.0  Cat_6  \n",
       "2625              1.0           High          5.0  Cat_4  \n",
       "2626              9.0            Low          3.0  Cat_7  \n",
       "\n",
       "[2154 rows x 10 columns]"
      ]
     },
     "execution_count": 27,
     "metadata": {},
     "output_type": "execute_result"
    }
   ],
   "source": [
    "data2 = pd.read_csv(\"../input/customer-segmentation/test.csv\")\n",
    "data2 = data2.dropna()\n",
    "data2"
   ]
  },
  {
   "cell_type": "code",
   "execution_count": 28,
   "metadata": {
    "execution": {
     "iopub.execute_input": "2021-02-27T19:30:41.184877Z",
     "iopub.status.busy": "2021-02-27T19:30:41.184256Z",
     "iopub.status.idle": "2021-02-27T19:30:41.203822Z",
     "shell.execute_reply": "2021-02-27T19:30:41.204313Z"
    },
    "papermill": {
     "duration": 0.089032,
     "end_time": "2021-02-27T19:30:41.204498",
     "exception": false,
     "start_time": "2021-02-27T19:30:41.115466",
     "status": "completed"
    },
    "tags": []
   },
   "outputs": [
    {
     "name": "stdout",
     "output_type": "stream",
     "text": [
      "<class 'pandas.core.frame.DataFrame'>\n",
      "Int64Index: 2154 entries, 0 to 2626\n",
      "Data columns (total 10 columns):\n",
      " #   Column           Non-Null Count  Dtype  \n",
      "---  ------           --------------  -----  \n",
      " 0   ID               2154 non-null   int64  \n",
      " 1   Gender           2154 non-null   object \n",
      " 2   Ever_Married     2154 non-null   object \n",
      " 3   Age              2154 non-null   int64  \n",
      " 4   Graduated        2154 non-null   object \n",
      " 5   Profession       2154 non-null   object \n",
      " 6   Work_Experience  2154 non-null   float64\n",
      " 7   Spending_Score   2154 non-null   object \n",
      " 8   Family_Size      2154 non-null   float64\n",
      " 9   Var_1            2154 non-null   object \n",
      "dtypes: float64(2), int64(2), object(6)\n",
      "memory usage: 185.1+ KB\n"
     ]
    }
   ],
   "source": [
    "data2.info()"
   ]
  },
  {
   "cell_type": "code",
   "execution_count": 29,
   "metadata": {
    "execution": {
     "iopub.execute_input": "2021-02-27T19:30:41.348599Z",
     "iopub.status.busy": "2021-02-27T19:30:41.347582Z",
     "iopub.status.idle": "2021-02-27T19:30:41.537552Z",
     "shell.execute_reply": "2021-02-27T19:30:41.536877Z"
    },
    "papermill": {
     "duration": 0.270492,
     "end_time": "2021-02-27T19:30:41.537698",
     "exception": false,
     "start_time": "2021-02-27T19:30:41.267206",
     "status": "completed"
    },
    "tags": []
   },
   "outputs": [
    {
     "data": {
      "text/html": [
       "<div>\n",
       "<style scoped>\n",
       "    .dataframe tbody tr th:only-of-type {\n",
       "        vertical-align: middle;\n",
       "    }\n",
       "\n",
       "    .dataframe tbody tr th {\n",
       "        vertical-align: top;\n",
       "    }\n",
       "\n",
       "    .dataframe thead th {\n",
       "        text-align: right;\n",
       "    }\n",
       "</style>\n",
       "<table border=\"1\" class=\"dataframe\">\n",
       "  <thead>\n",
       "    <tr style=\"text-align: right;\">\n",
       "      <th></th>\n",
       "      <th>ID</th>\n",
       "      <th>Gender</th>\n",
       "      <th>Ever_Married</th>\n",
       "      <th>Age</th>\n",
       "      <th>Graduated</th>\n",
       "      <th>Profession</th>\n",
       "      <th>Work_Experience</th>\n",
       "      <th>Spending_Score</th>\n",
       "      <th>Family_Size</th>\n",
       "      <th>Var_1</th>\n",
       "      <th>Segmentation predict</th>\n",
       "    </tr>\n",
       "  </thead>\n",
       "  <tbody>\n",
       "    <tr>\n",
       "      <th>0</th>\n",
       "      <td>458989</td>\n",
       "      <td>0</td>\n",
       "      <td>1</td>\n",
       "      <td>36</td>\n",
       "      <td>1</td>\n",
       "      <td>2</td>\n",
       "      <td>0.0</td>\n",
       "      <td>2</td>\n",
       "      <td>1.0</td>\n",
       "      <td>5</td>\n",
       "      <td>0</td>\n",
       "    </tr>\n",
       "    <tr>\n",
       "      <th>1</th>\n",
       "      <td>458994</td>\n",
       "      <td>1</td>\n",
       "      <td>1</td>\n",
       "      <td>37</td>\n",
       "      <td>1</td>\n",
       "      <td>5</td>\n",
       "      <td>8.0</td>\n",
       "      <td>0</td>\n",
       "      <td>4.0</td>\n",
       "      <td>5</td>\n",
       "      <td>1</td>\n",
       "    </tr>\n",
       "    <tr>\n",
       "      <th>3</th>\n",
       "      <td>459000</td>\n",
       "      <td>1</td>\n",
       "      <td>1</td>\n",
       "      <td>59</td>\n",
       "      <td>0</td>\n",
       "      <td>4</td>\n",
       "      <td>11.0</td>\n",
       "      <td>1</td>\n",
       "      <td>2.0</td>\n",
       "      <td>5</td>\n",
       "      <td>2</td>\n",
       "    </tr>\n",
       "    <tr>\n",
       "      <th>5</th>\n",
       "      <td>459003</td>\n",
       "      <td>1</td>\n",
       "      <td>1</td>\n",
       "      <td>47</td>\n",
       "      <td>1</td>\n",
       "      <td>1</td>\n",
       "      <td>0.0</td>\n",
       "      <td>1</td>\n",
       "      <td>5.0</td>\n",
       "      <td>3</td>\n",
       "      <td>1</td>\n",
       "    </tr>\n",
       "    <tr>\n",
       "      <th>6</th>\n",
       "      <td>459005</td>\n",
       "      <td>1</td>\n",
       "      <td>1</td>\n",
       "      <td>61</td>\n",
       "      <td>1</td>\n",
       "      <td>1</td>\n",
       "      <td>5.0</td>\n",
       "      <td>2</td>\n",
       "      <td>3.0</td>\n",
       "      <td>5</td>\n",
       "      <td>1</td>\n",
       "    </tr>\n",
       "    <tr>\n",
       "      <th>...</th>\n",
       "      <td>...</td>\n",
       "      <td>...</td>\n",
       "      <td>...</td>\n",
       "      <td>...</td>\n",
       "      <td>...</td>\n",
       "      <td>...</td>\n",
       "      <td>...</td>\n",
       "      <td>...</td>\n",
       "      <td>...</td>\n",
       "      <td>...</td>\n",
       "      <td>...</td>\n",
       "    </tr>\n",
       "    <tr>\n",
       "      <th>2621</th>\n",
       "      <td>467950</td>\n",
       "      <td>0</td>\n",
       "      <td>0</td>\n",
       "      <td>35</td>\n",
       "      <td>1</td>\n",
       "      <td>3</td>\n",
       "      <td>1.0</td>\n",
       "      <td>2</td>\n",
       "      <td>2.0</td>\n",
       "      <td>5</td>\n",
       "      <td>0</td>\n",
       "    </tr>\n",
       "    <tr>\n",
       "      <th>2622</th>\n",
       "      <td>467954</td>\n",
       "      <td>1</td>\n",
       "      <td>0</td>\n",
       "      <td>29</td>\n",
       "      <td>0</td>\n",
       "      <td>5</td>\n",
       "      <td>9.0</td>\n",
       "      <td>2</td>\n",
       "      <td>4.0</td>\n",
       "      <td>5</td>\n",
       "      <td>3</td>\n",
       "    </tr>\n",
       "    <tr>\n",
       "      <th>2623</th>\n",
       "      <td>467958</td>\n",
       "      <td>0</td>\n",
       "      <td>0</td>\n",
       "      <td>35</td>\n",
       "      <td>1</td>\n",
       "      <td>1</td>\n",
       "      <td>1.0</td>\n",
       "      <td>2</td>\n",
       "      <td>1.0</td>\n",
       "      <td>5</td>\n",
       "      <td>0</td>\n",
       "    </tr>\n",
       "    <tr>\n",
       "      <th>2625</th>\n",
       "      <td>467961</td>\n",
       "      <td>1</td>\n",
       "      <td>1</td>\n",
       "      <td>47</td>\n",
       "      <td>1</td>\n",
       "      <td>4</td>\n",
       "      <td>1.0</td>\n",
       "      <td>1</td>\n",
       "      <td>5.0</td>\n",
       "      <td>3</td>\n",
       "      <td>1</td>\n",
       "    </tr>\n",
       "    <tr>\n",
       "      <th>2626</th>\n",
       "      <td>467968</td>\n",
       "      <td>0</td>\n",
       "      <td>0</td>\n",
       "      <td>43</td>\n",
       "      <td>1</td>\n",
       "      <td>5</td>\n",
       "      <td>9.0</td>\n",
       "      <td>2</td>\n",
       "      <td>3.0</td>\n",
       "      <td>6</td>\n",
       "      <td>3</td>\n",
       "    </tr>\n",
       "  </tbody>\n",
       "</table>\n",
       "<p>2154 rows × 11 columns</p>\n",
       "</div>"
      ],
      "text/plain": [
       "          ID  Gender  Ever_Married  Age  Graduated  Profession  \\\n",
       "0     458989       0             1   36          1           2   \n",
       "1     458994       1             1   37          1           5   \n",
       "3     459000       1             1   59          0           4   \n",
       "5     459003       1             1   47          1           1   \n",
       "6     459005       1             1   61          1           1   \n",
       "...      ...     ...           ...  ...        ...         ...   \n",
       "2621  467950       0             0   35          1           3   \n",
       "2622  467954       1             0   29          0           5   \n",
       "2623  467958       0             0   35          1           1   \n",
       "2625  467961       1             1   47          1           4   \n",
       "2626  467968       0             0   43          1           5   \n",
       "\n",
       "      Work_Experience  Spending_Score  Family_Size  Var_1  \\\n",
       "0                 0.0               2          1.0      5   \n",
       "1                 8.0               0          4.0      5   \n",
       "3                11.0               1          2.0      5   \n",
       "5                 0.0               1          5.0      3   \n",
       "6                 5.0               2          3.0      5   \n",
       "...               ...             ...          ...    ...   \n",
       "2621              1.0               2          2.0      5   \n",
       "2622              9.0               2          4.0      5   \n",
       "2623              1.0               2          1.0      5   \n",
       "2625              1.0               1          5.0      3   \n",
       "2626              9.0               2          3.0      6   \n",
       "\n",
       "      Segmentation predict  \n",
       "0                        0  \n",
       "1                        1  \n",
       "3                        2  \n",
       "5                        1  \n",
       "6                        1  \n",
       "...                    ...  \n",
       "2621                     0  \n",
       "2622                     3  \n",
       "2623                     0  \n",
       "2625                     1  \n",
       "2626                     3  \n",
       "\n",
       "[2154 rows x 11 columns]"
      ]
     },
     "execution_count": 29,
     "metadata": {},
     "output_type": "execute_result"
    }
   ],
   "source": [
    "for column in data2.columns:\n",
    "  if data2[column].dtype == type(object):\n",
    "    data2[column] = data2[column].replace(np.nan, \"none\", regex = True)\n",
    "    data2[column] = le.fit_transform(y = data2[column].values)\n",
    "\n",
    "X_test_2 = data2.drop([\"ID\"], axis = 1).to_numpy()\n",
    "\n",
    "data2[\"Segmentation predict\"] = Boosting_prod.predict(X_test_2)\n",
    "data2"
   ]
  },
  {
   "cell_type": "markdown",
   "metadata": {
    "papermill": {
     "duration": 0.064242,
     "end_time": "2021-02-27T19:30:41.667202",
     "exception": false,
     "start_time": "2021-02-27T19:30:41.602960",
     "status": "completed"
    },
    "tags": []
   },
   "source": [
    "Con esto pudimos clasificar a los clientes nuevos en distintos segmentos dada la nueva base de datos que es lo que se pedia. \n",
    "\n",
    "Donde 0 pertenece a la clase A, 1 a la clase B, 2 a la clase C, y 3 a la clase D.\n",
    "\n",
    "En la columna genero el valor 0 pertenece a la mujer y el 1 al hombre.\n",
    "En la columna de graduado el valor 1 corresponde a los graduados, y el 0 a los que no estan graduados.\n",
    "En la columna de Profession el valor 0 pertenece a los artistas, 1 pertenece a Doctor, el valor 2 pertenece a los ingenieros, el valor 3 al grupo de entretenimiento, el valor 4 al grupo de los ejecutivos, el valor 5 pertenece al grupo de los healthcare, el grupo 6 le pertenecen a los que realizan tareas del hogar, el grupo 7 pertenece a los abogados, y el grupo 8 le pertenecen a los que estan en Marketing.\n",
    "\n",
    "En la columna de Spending_Score, el valor 0 pertenece a Average, el valor 1 pertenece a High, y el valor 2 pertenece a Low.\n",
    "\n",
    "En la columna Var_1, los valores del 0 al 6, pertenecen a las categorias de Cat_1 a Cat_7 respectivamente"
   ]
  }
 ],
 "metadata": {
  "kernelspec": {
   "display_name": "Python 3",
   "language": "python",
   "name": "python3"
  },
  "language_info": {
   "codemirror_mode": {
    "name": "ipython",
    "version": 3
   },
   "file_extension": ".py",
   "mimetype": "text/x-python",
   "name": "python",
   "nbconvert_exporter": "python",
   "pygments_lexer": "ipython3",
   "version": "3.7.9"
  },
  "papermill": {
   "default_parameters": {},
   "duration": 169.608668,
   "end_time": "2021-02-27T19:30:42.645429",
   "environment_variables": {},
   "exception": null,
   "input_path": "__notebook__.ipynb",
   "output_path": "__notebook__.ipynb",
   "parameters": {},
   "start_time": "2021-02-27T19:27:53.036761",
   "version": "2.2.2"
  }
 },
 "nbformat": 4,
 "nbformat_minor": 4
}
